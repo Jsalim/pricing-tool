{
 "cells": [
  {
   "cell_type": "markdown",
   "metadata": {},
   "source": [
    "# TODO\n",
    "\n",
    "- loi normale\n",
    "- loi gamma\n",
    "- dataset\n",
    "- pénalisation lasso\n",
    "- pénalisation group lasso"
   ]
  },
  {
   "cell_type": "code",
   "execution_count": 1,
   "metadata": {
    "collapsed": true
   },
   "outputs": [],
   "source": [
    "import numpy as np\n",
    "import sklearn\n",
    "from sklearn.model_selection import train_test_split\n",
    "import math"
   ]
  },
  {
   "cell_type": "code",
   "execution_count": 2,
   "metadata": {
    "collapsed": true
   },
   "outputs": [],
   "source": [
    "import matplotlib\n",
    "import matplotlib.pyplot as plt\n",
    "from matplotlib.ticker import MultipleLocator\n",
    "%matplotlib inline "
   ]
  },
  {
   "cell_type": "code",
   "execution_count": 3,
   "metadata": {},
   "outputs": [
    {
     "data": {
      "text/plain": [
       "{'divide': 'warn', 'invalid': 'warn', 'over': 'warn', 'under': 'ignore'}"
      ]
     },
     "execution_count": 3,
     "metadata": {},
     "output_type": "execute_result"
    }
   ],
   "source": [
    "import numpy\n",
    "numpy.seterr(all='raise')"
   ]
  },
  {
   "cell_type": "code",
   "execution_count": 4,
   "metadata": {
    "collapsed": true
   },
   "outputs": [],
   "source": [
    "import perf\n",
    "import metrics"
   ]
  },
  {
   "cell_type": "code",
   "execution_count": 5,
   "metadata": {},
   "outputs": [
    {
     "data": {
      "text/plain": [
       "<module 'perf' from '\\\\\\\\siege.axa-fr.intraxa\\\\donneessiege\\\\User_data_PGEN\\\\data\\\\S628057\\\\Documents\\\\git\\\\pricing-tool\\\\perf.py'>"
      ]
     },
     "execution_count": 5,
     "metadata": {},
     "output_type": "execute_result"
    }
   ],
   "source": [
    "from importlib import reload\n",
    "reload(perf)"
   ]
  },
  {
   "cell_type": "code",
   "execution_count": 6,
   "metadata": {
    "collapsed": true
   },
   "outputs": [],
   "source": [
    "def rmse(generator, model, size=1000):\n",
    "    values = np.zeros(size)\n",
    "    for i in range(size):\n",
    "        x, y, exposure = generator.get_observation()\n",
    "        y_pred = model.pred(x, exposure)\n",
    "        values[i] = y - y_pred\n",
    "    return np.sqrt(np.sum(np.square(values)) / size)   "
   ]
  },
  {
   "cell_type": "code",
   "execution_count": 7,
   "metadata": {
    "collapsed": true
   },
   "outputs": [],
   "source": [
    "class PoissonSampleGenerator:\n",
    "    \n",
    "    def __init__(self, size):\n",
    "        self.size = size\n",
    "        self.intercept = -1\n",
    "        self.coeffs = np.random.randn(size) / 10\n",
    "        self.noise_factor = 1\n",
    "        \n",
    "    def get_observation(self):\n",
    "        x = np.random.randn(self.size)\n",
    "        exposure = np.random.rand(1)\n",
    "        y = np.exp(self.intercept + np.inner(x, self.coeffs) + np.random.randn(1) * self.noise_factor / 100)\n",
    "        y *= exposure\n",
    "        return x, y, exposure"
   ]
  },
  {
   "cell_type": "code",
   "execution_count": 8,
   "metadata": {
    "collapsed": true
   },
   "outputs": [],
   "source": [
    "class Dataset:\n",
    "    \n",
    "    def __init__(self):\n",
    "        pass"
   ]
  },
  {
   "cell_type": "code",
   "execution_count": 9,
   "metadata": {
    "collapsed": true
   },
   "outputs": [],
   "source": [
    "import pandas as pd\n",
    "\n",
    "class TrainingFileReader:\n",
    "    \n",
    "    def __init__(self, filename, features, exposure, target):\n",
    "        self.filename = filename\n",
    "        self.features = features\n",
    "        self.exposure = exposure\n",
    "        self.target = target\n",
    "        usecols = features + [exposure, target]\n",
    "        self.df = pd.read_csv(filename, sep=',', usecols=usecols, dtype=str, nrows=300000)\n",
    "        self.df['Intercept'] = 1\n",
    "        features = ['Intercept'] + features\n",
    "        self.observations = pd.get_dummies(self.df[features])\n",
    "        self.modalities = list(self.observations)\n",
    "        self.observations[self.exposure] = self.df[self.exposure]\n",
    "        self.observations[self.target] = self.df[self.target]\n",
    "        train, test = train_test_split(self.observations, test_size=0.1)\n",
    "        self.train = train.astype('float')\n",
    "        self.test = test.astype('float')\n",
    "        self.size = self.train.shape[0]\n",
    "        mask = [0] * len(self.modalities)\n",
    "        train_list = np.array(list(self.train))\n",
    "        for i in range(len(self.modalities)):\n",
    "            mask[i] = int(np.where(self.modalities[i] == train_list)[0])\n",
    "        self.mask = mask\n",
    "        self.exposure_index = int(np.where(exposure == train_list)[0])\n",
    "        self.target_index = int(np.where(target == train_list)[0])\n",
    "        self.train = self.train.as_matrix()\n",
    "        self.test = self.test.as_matrix()\n",
    "        self.train_data = self.train[:, self.mask]\n",
    "        self.exposure_data = self.train[:, self.exposure_index]\n",
    "        self.target_data = self.train[:, self.target_index]\n",
    "        \n",
    "    def get_observation(self):\n",
    "        index = np.random.randint(self.size)\n",
    "        x = self.train_data[index]\n",
    "        y = self.target_data[index]\n",
    "        exposure = self.exposure_data[index]\n",
    "        return x, y, exposure \n",
    "    \n",
    "    def pred(self, model):\n",
    "        exposure = self.test[:, self.exposure_index]\n",
    "        y = self.test[:, self.target_index]\n",
    "        y_pred = np.exp(np.inner(self.test[:,self.mask], model.coeffs) + np.log(exposure))\n",
    "        return (y, y_pred, exposure)"
   ]
  },
  {
   "cell_type": "code",
   "execution_count": 10,
   "metadata": {
    "collapsed": true
   },
   "outputs": [],
   "source": [
    "class PoissonImplicitSGD:\n",
    "    \n",
    "    def __init__(self, dataset):\n",
    "        self.dataset = dataset\n",
    "        self.size = dataset.train.shape[1] - 2\n",
    "        self.coeffs = np.zeros(self.size)\n",
    "        \n",
    "    def fit_observation(self, x, y, exposure=0, learning_rate=0.1):\n",
    "        # get data 3 micros\n",
    "        y_pred = math.exp(np.inner(self.coeffs, x)) * exposure  # 6 micros\n",
    "        r = learning_rate * (y - y_pred)\n",
    "        x_squared = np.sum(x**2) # 7 micros\n",
    "        x1, x2 = 0, r\n",
    "        y1 = x1 - learning_rate * (y - y_pred * math.exp(x_squared * x1)) # 1 micros\n",
    "        y2 = x2 - learning_rate * (y - y_pred * math.exp(x_squared * x2)) # 1 micros\n",
    "        for i in range(30): # 3 micros\n",
    "            if abs(y2) < 1e-12:\n",
    "                break\n",
    "            x3 = (x1 * y2 - x2 * y1) / (y2 - y1)\n",
    "            y3 = x3 - learning_rate * (y - y_pred * math.exp(x_squared * x3))\n",
    "            x1, y1 = x2, y2\n",
    "            x2, y2 = x3, y3\n",
    "        self.coeffs += x2 * x  # 4 micros\n",
    "        \n",
    "    def pred(self, x, exposure=0):\n",
    "        return np.exp(np.inner(self.coeffs, x)) * exposure"
   ]
  },
  {
   "cell_type": "code",
   "execution_count": 11,
   "metadata": {
    "collapsed": true
   },
   "outputs": [],
   "source": [
    "g = TrainingFileReader('c:/data/mrh/axaf_mrh_tot_freq_tot.csv', \n",
    "                       ['ddea_quant_cm_10',\n",
    "                        'HAB_nb_pieces',\n",
    "                        'HAB_qual',\n",
    "                        'HAB_anclg',\n",
    "                        'CLI_age',\n",
    "                        #'POL_mtcapass',\n",
    "                        'HAB_habit',\n",
    "                        'CLI_sex',\n",
    "                        'POL_tr_tx_objv',\n",
    "                        'POL_fract',\n",
    "                        'annee',\n",
    "                        'CLI_nb_enfant',\n",
    "                       ], 'anpol', 'nbsinDDE')"
   ]
  },
  {
   "cell_type": "code",
   "execution_count": 16,
   "metadata": {},
   "outputs": [
    {
     "name": "stdout",
     "output_type": "stream",
     "text": [
      "iteration:  100000\n",
      "mean: 0.992631028449\n",
      "rmse: 0.185827531032 0\n",
      "gini: 0.196850394294\n",
      "deviance: 8.74384760518\n",
      "------------\n",
      "iteration:  200000\n",
      "mean: 0.984442864275\n",
      "rmse: 0.18562194308 0\n",
      "gini: 0.256982326264\n",
      "deviance: 8.73484754931\n",
      "------------\n",
      "iteration:  300000\n",
      "mean: 0.983227283172\n",
      "rmse: 0.18552192913 0\n",
      "gini: 0.277213160306\n",
      "deviance: 8.73065586533\n",
      "------------\n",
      "iteration:  400000\n",
      "mean: 0.977993300867\n",
      "rmse: 0.185448587109 0\n",
      "gini: 0.288841489312\n",
      "deviance: 8.72763198253\n",
      "------------\n",
      "iteration:  500000\n",
      "mean: 0.978476468998\n",
      "rmse: 0.18539560021 0\n",
      "gini: 0.295288271922\n",
      "deviance: 8.72555768022\n",
      "------------\n",
      "iteration:  600000\n",
      "mean: 0.975538349844\n",
      "rmse: 0.185363432894 0\n",
      "gini: 0.299461121711\n",
      "deviance: 8.72421419847\n",
      "------------\n",
      "iteration:  700000\n",
      "mean: 0.976549873382\n",
      "rmse: 0.185331231757 0\n",
      "gini: 0.302525959053\n",
      "deviance: 8.72304609335\n",
      "------------\n",
      "iteration:  800000\n",
      "mean: 0.974881793057\n",
      "rmse: 0.185307148279 0\n",
      "gini: 0.304971992276\n",
      "deviance: 8.72211280298\n",
      "------------\n",
      "iteration:  900000\n",
      "mean: 0.972420654916\n",
      "rmse: 0.185286192224 0\n",
      "gini: 0.306566633495\n",
      "deviance: 8.72131881325\n",
      "------------\n",
      "iteration:  1000000\n",
      "mean: 0.973447696582\n",
      "rmse: 0.185267187599 0\n",
      "gini: 0.308410897448\n",
      "deviance: 8.72061514088\n",
      "------------\n",
      "iteration:  1100000\n",
      "mean: 0.973007839506\n",
      "rmse: 0.185251641611 0\n",
      "gini: 0.309699928072\n",
      "deviance: 8.72001535523\n",
      "------------\n",
      "iteration:  1200000\n",
      "mean: 0.972994396101\n",
      "rmse: 0.185238272607 0\n",
      "gini: 0.310422791165\n",
      "deviance: 8.71953165652\n",
      "------------\n",
      "iteration:  1300000\n",
      "mean: 0.974811986082\n",
      "rmse: 0.185223402918 0\n",
      "gini: 0.311514067234\n",
      "deviance: 8.71900287517\n",
      "------------\n",
      "iteration:  1400000\n",
      "mean: 0.974271980086\n",
      "rmse: 0.185212006015 0\n",
      "gini: 0.31250483796\n",
      "deviance: 8.71856955625\n",
      "------------\n",
      "iteration:  1500000\n",
      "mean: 0.974957198219\n",
      "rmse: 0.18519996339 0\n",
      "gini: 0.313381210041\n",
      "deviance: 8.71814830532\n",
      "------------\n",
      "iteration:  1600000\n",
      "mean: 0.977001404768\n",
      "rmse: 0.18518806448 0\n",
      "gini: 0.314079288025\n",
      "deviance: 8.7177632276\n",
      "------------\n",
      "iteration:  1700000\n",
      "mean: 0.977383073976\n",
      "rmse: 0.185179562858 0\n",
      "gini: 0.314542386965\n",
      "deviance: 8.71748481493\n",
      "------------\n",
      "iteration:  1800000\n",
      "mean: 0.979129640037\n",
      "rmse: 0.185171070019 0\n",
      "gini: 0.315043121288\n",
      "deviance: 8.71721106077\n",
      "------------\n",
      "iteration:  1900000\n",
      "mean: 0.976753596241\n",
      "rmse: 0.185168000555 0\n",
      "gini: 0.315504717573\n",
      "deviance: 8.71705126352\n",
      "------------\n",
      "iteration:  2000000\n",
      "mean: 0.97592846009\n",
      "rmse: 0.185162082559 0\n",
      "gini: 0.316058314481\n",
      "deviance: 8.71681855947\n",
      "------------\n"
     ]
    }
   ],
   "source": [
    "model = PoissonImplicitSGD(g)\n",
    "\n",
    "iterations = 2000000\n",
    "e_train = []\n",
    "e_test = []\n",
    "gini = []\n",
    "ldeviance = []\n",
    "coeffs = model.coeffs.copy()\n",
    "\n",
    "for i in range(1, 100000):\n",
    "    model.fit_observation(*g.get_observation(), learning_rate=i**-1)\n",
    "\n",
    "for i in range(1, iterations + 1):\n",
    "    model.fit_observation(*g.get_observation(), learning_rate=0.001)#1*i**-0.75)\n",
    "    coeffs += model.coeffs\n",
    "    if i % 100000 == 0 :\n",
    "        mstar = model = PoissonImplicitSGD(g)\n",
    "        mstar.coeffs = coeffs / i\n",
    "        y, y_pred, exposure = g.pred(mstar)\n",
    "        e_train.append(perf.root_mean_square_error(y, y_pred))\n",
    "        e_test.append(0)\n",
    "        gini.append(metrics.gini_emblem_fast(y, y_pred, exposure))\n",
    "        ldeviance = np.log(metrics.poisson_deviance(y, y_pred, exposure))\n",
    "        print('iteration: ', i)\n",
    "        print('mean:', np.mean(y_pred) / np.mean(y))\n",
    "        print('rmse:', e_train[-1] , e_test[-1])\n",
    "        print('gini:', gini[-1])\n",
    "        print('deviance:', ldeviance)\n",
    "        print('------------')"
   ]
  },
  {
   "cell_type": "code",
   "execution_count": 17,
   "metadata": {},
   "outputs": [
    {
     "name": "stdout",
     "output_type": "stream",
     "text": [
      "Intercept : 0.485968353324\n",
      "ddea_quant_cm_10_0 : 0.933558267149\n",
      "ddea_quant_cm_10_1 : 0.920877770786\n",
      "ddea_quant_cm_10_10 : 1.31945803735\n",
      "ddea_quant_cm_10_2 : 0.860636167345\n",
      "ddea_quant_cm_10_3 : 0.806209142352\n",
      "ddea_quant_cm_10_4 : 0.850151718799\n",
      "ddea_quant_cm_10_5 : 0.86347599068\n",
      "ddea_quant_cm_10_6 : 0.796937936469\n",
      "ddea_quant_cm_10_7 : 0.961248671559\n",
      "ddea_quant_cm_10_8 : 1.0004177294\n",
      "ddea_quant_cm_10_9 : 1.09752226263\n",
      "HAB_nb_pieces_1 : 0.844102306217\n",
      "HAB_nb_pieces_10 : 1.02171845999\n",
      "HAB_nb_pieces_11 : 1.00371858054\n",
      "HAB_nb_pieces_12 : 1.00722465941\n",
      "HAB_nb_pieces_13 : 1.01173765058\n",
      "HAB_nb_pieces_14 : 1.01090706791\n",
      "HAB_nb_pieces_15 : 1.00399920657\n",
      "HAB_nb_pieces_2 : 0.795641663847\n",
      "HAB_nb_pieces_3 : 0.831599247891\n",
      "HAB_nb_pieces_4 : 0.846851889219\n",
      "HAB_nb_pieces_5 : 0.904331139596\n",
      "HAB_nb_pieces_6 : 0.967510439962\n",
      "HAB_nb_pieces_7 : 1.0485721507\n",
      "HAB_nb_pieces_8 : 0.993184226933\n",
      "HAB_nb_pieces_9 : 1.06311559661\n",
      "HAB_qual_L : 0.598637055113\n",
      "HAB_qual_P : 0.81179130021\n",
      "HAB_anclg_5-10ans : 0.940142422165\n",
      "HAB_anclg_< 5ans : 0.881918193653\n",
      "HAB_anclg_> 10ans : 0.773142129134\n",
      "HAB_anclg_NR : 0.758100350972\n",
      "CLI_age_-1 : 0.9752194884\n",
      "CLI_age_0 : 0.999961423033\n",
      "CLI_age_1 : 0.999973120209\n",
      "CLI_age_10 : 0.999808062275\n",
      "CLI_age_100 : 0.998810596547\n",
      "CLI_age_101 : 0.998154285635\n",
      "CLI_age_102 : 0.999373944588\n",
      "CLI_age_103 : 0.999792643565\n",
      "CLI_age_104 : 1.00159516117\n",
      "CLI_age_105 : 1.00039424159\n",
      "CLI_age_106 : 1.00017869254\n",
      "CLI_age_107 : 0.999849662941\n",
      "CLI_age_108 : 0.999806374224\n",
      "CLI_age_109 : 0.994309212841\n",
      "CLI_age_11 : 0.999878369056\n",
      "CLI_age_110 : 0.993727401988\n",
      "CLI_age_111 : 1.00270152374\n",
      "CLI_age_112 : 1.00377863576\n",
      "CLI_age_113 : 0.995232021671\n",
      "CLI_age_114 : 0.9998984541\n",
      "CLI_age_116 : 0.999996575649\n",
      "CLI_age_12 : 0.999884127862\n",
      "CLI_age_123 : 0.99999860655\n",
      "CLI_age_124 : 0.999955638961\n",
      "CLI_age_13 : 0.999987397692\n",
      "CLI_age_14 : 0.999982132694\n",
      "CLI_age_15 : 0.999986996126\n",
      "CLI_age_16 : 0.999907217848\n",
      "CLI_age_17 : 0.99966248256\n",
      "CLI_age_18 : 0.998443267389\n",
      "CLI_age_19 : 0.994386620511\n",
      "CLI_age_20 : 0.996622149117\n",
      "CLI_age_21 : 0.991432346117\n",
      "CLI_age_22 : 0.996754792544\n",
      "CLI_age_23 : 0.997324447034\n",
      "CLI_age_24 : 0.977461522681\n",
      "CLI_age_25 : 0.97355659988\n",
      "CLI_age_26 : 0.980306325858\n",
      "CLI_age_27 : 0.981055584226\n",
      "CLI_age_28 : 0.997585521329\n",
      "CLI_age_29 : 0.988482965813\n",
      "CLI_age_30 : 0.994886808553\n",
      "CLI_age_31 : 0.994925763134\n",
      "CLI_age_32 : 0.982306046097\n",
      "CLI_age_33 : 1.0001881462\n",
      "CLI_age_34 : 0.991094751533\n",
      "CLI_age_35 : 1.01198868512\n",
      "CLI_age_36 : 1.00411445571\n",
      "CLI_age_37 : 1.01167924114\n",
      "CLI_age_38 : 0.868175919783\n",
      "CLI_age_39 : 0.983990804543\n",
      "CLI_age_4 : 0.999943056032\n",
      "CLI_age_40 : 0.995683494922\n",
      "CLI_age_41 : 1.02171731415\n",
      "CLI_age_42 : 0.987599329172\n",
      "CLI_age_43 : 0.994540194494\n",
      "CLI_age_44 : 1.00487207436\n",
      "CLI_age_45 : 0.995269033887\n",
      "CLI_age_46 : 1.00208635291\n",
      "CLI_age_47 : 1.00043129226\n",
      "CLI_age_48 : 1.00157485084\n",
      "CLI_age_49 : 0.992410305617\n",
      "CLI_age_5 : 0.999918171082\n",
      "CLI_age_50 : 1.0557897759\n",
      "CLI_age_51 : 1.04742429713\n",
      "CLI_age_52 : 1.00701994226\n",
      "CLI_age_53 : 1.00082568342\n",
      "CLI_age_54 : 0.975688417237\n",
      "CLI_age_55 : 0.996204419343\n",
      "CLI_age_56 : 0.998700392816\n",
      "CLI_age_57 : 1.0033625684\n",
      "CLI_age_58 : 0.968475056572\n",
      "CLI_age_59 : 0.962126364636\n",
      "CLI_age_6 : 0.999911973105\n",
      "CLI_age_60 : 1.01784625714\n",
      "CLI_age_61 : 0.949265118\n",
      "CLI_age_62 : 0.999688215235\n",
      "CLI_age_63 : 0.998612296467\n",
      "CLI_age_64 : 0.997796930762\n",
      "CLI_age_65 : 1.00485055914\n",
      "CLI_age_66 : 0.963927026322\n",
      "CLI_age_67 : 1.00356967026\n",
      "CLI_age_68 : 0.991839239516\n",
      "CLI_age_69 : 1.01660217036\n",
      "CLI_age_7 : 0.999901909685\n",
      "CLI_age_70 : 0.998694758613\n",
      "CLI_age_71 : 0.967893866159\n",
      "CLI_age_72 : 1.00697451553\n",
      "CLI_age_73 : 0.996932139771\n",
      "CLI_age_74 : 0.999342772273\n",
      "CLI_age_75 : 0.987261948145\n",
      "CLI_age_76 : 0.970183039743\n",
      "CLI_age_77 : 0.987348395587\n",
      "CLI_age_78 : 0.989023219694\n",
      "CLI_age_79 : 0.98430134752\n",
      "CLI_age_8 : 0.999807168059\n",
      "CLI_age_80 : 0.968940348396\n",
      "CLI_age_81 : 0.989443523784\n",
      "CLI_age_82 : 0.981722191904\n",
      "CLI_age_83 : 0.985559673869\n",
      "CLI_age_84 : 0.985870212982\n",
      "CLI_age_85 : 0.979059070352\n",
      "CLI_age_86 : 0.989231841908\n",
      "CLI_age_87 : 0.995031502968\n",
      "CLI_age_88 : 0.952698006425\n",
      "CLI_age_89 : 0.991718904209\n",
      "CLI_age_9 : 1.00031097705\n",
      "CLI_age_90 : 0.993662423318\n",
      "CLI_age_91 : 0.981219213095\n",
      "CLI_age_92 : 0.999677963123\n",
      "CLI_age_93 : 0.994948606555\n",
      "CLI_age_94 : 0.994494940845\n",
      "CLI_age_95 : 0.998234741006\n",
      "CLI_age_96 : 0.995499368918\n",
      "CLI_age_97 : 0.999927433658\n",
      "CLI_age_98 : 1.00195670097\n",
      "CLI_age_99 : 0.999835513131\n",
      "HAB_habit_A : 0.963478169961\n",
      "HAB_habit_M : 0.538771094264\n",
      "HAB_habit_R : 0.936185310152\n",
      "CLI_sex_E : 0.974339722805\n",
      "CLI_sex_F : 0.745684756536\n",
      "CLI_sex_M : 0.668870919717\n",
      "POL_tr_tx_objv_01-TxOBV  0% : 0.696484508736\n",
      "POL_tr_tx_objv_02-TxOBV 10% : 0.762251138977\n",
      "POL_tr_tx_objv_03-TxOBV 20% : 0.780127310309\n",
      "POL_tr_tx_objv_04-TxOBV 30% : 1.04309759365\n",
      "POL_tr_tx_objv_05-TxOBV 40% : 1.02568000904\n",
      "POL_tr_tx_objv_06-TxOBV 50% : 1.09672092338\n",
      "POL_fract_1 : 0.657227015177\n",
      "POL_fract_12 : 0.750744444626\n",
      "POL_fract_2 : 0.984918862085\n",
      "annee_2009 : 0.833795703547\n",
      "annee_2010 : 0.837284132937\n",
      "annee_2011 : 0.848060601248\n",
      "annee_2012 : 0.888852582777\n",
      "annee_2013 : 0.923461615547\n",
      "CLI_nb_enfant_1 : 0.74213799103\n",
      "CLI_nb_enfant_2 : 0.654822094002\n"
     ]
    }
   ],
   "source": [
    "for k, v in zip(g.modalities, np.exp(model.coeffs)):\n",
    "    print(k, ':', v)"
   ]
  },
  {
   "cell_type": "code",
   "execution_count": 18,
   "metadata": {},
   "outputs": [
    {
     "data": {
      "image/png": "[encoded data removed]",
      "text/plain": [
       "<matplotlib.figure.Figure at 0xb76af60>"
      ]
     },
     "metadata": {},
     "output_type": "display_data"
    }
   ],
   "source": [
    "metrics.plot_lift_curve(y, y_pred, exposure)"
   ]
  },
  {
   "cell_type": "code",
   "execution_count": 841,
   "metadata": {},
   "outputs": [
    {
     "name": "stdout",
     "output_type": "stream",
     "text": [
      "iteration:  2000000\n",
      "mean: 1.0\n",
      "rmse: 0.184639460727\n",
      "gini: 0.346075919498\n",
      "deviance: 8.68487107208\n",
      "------------\n"
     ]
    }
   ],
   "source": [
    "y_pred = np.mean(y)/np.mean(y_pred)*y_pred\n",
    "print('iteration: ', i)\n",
    "print('mean:', np.mean(y_pred) / np.mean(y))\n",
    "print('rmse:', perf.root_mean_square_error(y, y_pred))\n",
    "print('gini:', metrics.gini_emblem_fast(y, y_pred, exposure))\n",
    "print('deviance:', np.log(metrics.poisson_deviance(y, y_pred, exposure)))\n",
    "print('------------')"
   ]
  },
  {
   "cell_type": "code",
   "execution_count": 816,
   "metadata": {},
   "outputs": [
    {
     "data": {
      "text/plain": [
       "(0.031821881916350721, 0.031566666666666666)"
      ]
     },
     "execution_count": 816,
     "metadata": {},
     "output_type": "execute_result"
    }
   ],
   "source": [
    "np.mean(y_pred),np.mean(y)"
   ]
  },
  {
   "cell_type": "code",
   "execution_count": 830,
   "metadata": {},
   "outputs": [
    {
     "data": {
      "text/plain": [
       "(-3.461337782982655, -3.4556535674582141)"
      ]
     },
     "execution_count": 830,
     "metadata": {},
     "output_type": "execute_result"
    }
   ],
   "source": [
    "np.log(np.mean(y_pred)),np.log(np.mean(y))"
   ]
  },
  {
   "cell_type": "code",
   "execution_count": 540,
   "metadata": {},
   "outputs": [
    {
     "name": "stdout",
     "output_type": "stream",
     "text": [
      "The slowest run took 22.91 times longer than the fastest. This could mean that an intermediate result is being cached.\n",
      "100000 loops, best of 3: 2.67 µs per loop\n"
     ]
    }
   ],
   "source": [
    "%%timeit\n",
    "g.get_observation()"
   ]
  },
  {
   "cell_type": "code",
   "execution_count": null,
   "metadata": {
    "collapsed": true
   },
   "outputs": [],
   "source": [
    "for i in range(100):\n",
    "    x, y, exposure = g.get_observation()\n",
    "    y_pred = model.pred(x, exposure)\n",
    "    print(x, y, y_pred, exposure)"
   ]
  },
  {
   "cell_type": "code",
   "execution_count": 779,
   "metadata": {},
   "outputs": [
    {
     "data": {
      "image/png": "[encoded data removed]",
      "text/plain": [
       "<matplotlib.figure.Figure at 0xc5847f0>"
      ]
     },
     "metadata": {},
     "output_type": "display_data"
    },
    {
     "data": {
      "image/png": "[encoded data removed]",
      "text/plain": [
       "<matplotlib.figure.Figure at 0x4415f6d8>"
      ]
     },
     "metadata": {},
     "output_type": "display_data"
    }
   ],
   "source": [
    "fig = plt.figure(figsize=(16, 8))\n",
    "ax = fig.add_subplot(111)\n",
    "line, = ax.plot(e_train)\n",
    "ax = fig.add_subplot(111)\n",
    "line, = ax.plot(e_test)\n",
    "ax = fig.add_subplot(111)\n",
    "line, = ax.plot(gini)\n",
    "plt.show()\n",
    "perf.plot_gini(y_pred, exposure)"
   ]
  }
 ],
 "metadata": {
  "kernelspec": {
   "display_name": "Python 3",
   "language": "python",
   "name": "python3"
  },
  "language_info": {
   "codemirror_mode": {
    "name": "ipython",
    "version": 3
   },
   "file_extension": ".py",
   "mimetype": "text/x-python",
   "name": "python",
   "nbconvert_exporter": "python",
   "pygments_lexer": "ipython3",
   "version": "3.6.1"
  }
 },
 "nbformat": 4,
 "nbformat_minor": 2
}
