{
 "cells": [
  {
   "cell_type": "code",
   "execution_count": null,
   "metadata": {},
   "outputs": [],
   "source": [
    "import pandas as pd\n",
    "import numpy as np\n",
    "import perf\n",
    "import metrics\n",
    "\n",
    "import matplotlib\n",
    "import matplotlib.pyplot as plt\n",
    "from matplotlib.ticker import MultipleLocator\n",
    "%matplotlib inline"
   ]
  },
  {
   "cell_type": "code",
   "execution_count": null,
   "metadata": {},
   "outputs": [],
   "source": [
    "0.217744\n"
   ]
  },
  {
   "cell_type": "code",
   "execution_count": 5,
   "metadata": {},
   "outputs": [
    {
     "name": "stdout",
     "output_type": "stream",
     "text": [
      "running build\n",
      "running build_ext\n",
      "building 'pricingtool' extension\n",
      "clang -Wno-unused-result -fno-common -dynamic -DNDEBUG -g -fwrapv -O3 -Wall -Wstrict-prototypes -I. -I/usr/local/include -I/usr/local/opt/sqlite/include -I/Users/juliendurand/git/pricing-tool/venv/include -I/usr/local/Cellar/python3/3.4.3/Frameworks/Python.framework/Versions/3.4/include/python3.4m -c pricingtool.cpp -o build/temp.macosx-10.11-x86_64-3.4/pricingtool.o\n",
      "clang++ -bundle -undefined dynamic_lookup build/temp.macosx-10.11-x86_64-3.4/pricingtool.o -L/usr/local/lib -L/usr/local/opt/sqlite/lib -o build/lib.macosx-10.11-x86_64-3.4/pricingtool.so\n"
     ]
    }
   ],
   "source": [
    "! python setup.py build "
   ]
  },
  {
   "cell_type": "code",
   "execution_count": 6,
   "metadata": {},
   "outputs": [
    {
     "name": "stdout",
     "output_type": "stream",
     "text": [
      "running install\r\n",
      "running build\r\n",
      "running build_ext\r\n",
      "running install_lib\r\n",
      "copying build/lib.macosx-10.11-x86_64-3.4/pricingtool.so -> /Users/juliendurand/git/pricing-tool/venv/lib/python3.4/site-packages\r\n",
      "running install_egg_info\r\n",
      "Removing /Users/juliendurand/git/pricing-tool/venv/lib/python3.4/site-packages/PricingToolExtension-1.0-py3.4.egg-info\r\n",
      "Writing /Users/juliendurand/git/pricing-tool/venv/lib/python3.4/site-packages/PricingToolExtension-1.0-py3.4.egg-info\r\n"
     ]
    }
   ],
   "source": [
    "! python setup.py install "
   ]
  },
  {
   "cell_type": "code",
   "execution_count": 10,
   "metadata": {},
   "outputs": [],
   "source": [
    "import pricingtool as pt\n",
    "import importlib\n",
    "pt = importlib.reload(pt)"
   ]
  },
  {
   "cell_type": "code",
   "execution_count": 25,
   "metadata": {},
   "outputs": [],
   "source": [
    "! g++ -Wall -O3 src/*.cpp -o ./bin/sgd"
   ]
  },
  {
   "cell_type": "code",
   "execution_count": null,
   "metadata": {},
   "outputs": [],
   "source": [
    "import ctypes\n",
    "\n",
    "sgdlib = ctypes.cdll.LoadLibrary(\"./bin/sgd.so\") "
   ]
  },
  {
   "cell_type": "code",
   "execution_count": null,
   "metadata": {},
   "outputs": [],
   "source": [
    "print_callback = ctypes.CFUNCTYPE(ctypes.c_wchar_p)"
   ]
  },
  {
   "cell_type": "code",
   "execution_count": null,
   "metadata": {},
   "outputs": [],
   "source": [
    "sgdlib.main3(print_callback(print))"
   ]
  },
  {
   "cell_type": "code",
   "execution_count": null,
   "metadata": {},
   "outputs": [],
   "source": [
    "!time ./bin/sgd"
   ]
  },
  {
   "cell_type": "code",
   "execution_count": null,
   "metadata": {},
   "outputs": [],
   "source": [
    "!time ./bin/sgd"
   ]
  },
  {
   "cell_type": "code",
   "execution_count": null,
   "metadata": {},
   "outputs": [],
   "source": [
    "df = pd.read_csv(\"./data/results.csv\")\n",
    "print('mean:', round(np.sum(df.prediction) / np.sum(df.exposure), 6), round(np.sum(df.target) / np.sum(df.exposure), 6))\n",
    "print('rmse:', round(perf.root_mean_square_error(df.target, df.prediction, df.exposure), 6))\n",
    "print('gini:', metrics.gini_emblem_fast(df.target, df.prediction, df.exposure))\n",
    "print('deviance:', np.log(metrics.poisson_deviance(df.target, df.prediction, df.exposure)))\n",
    "metrics.plot_lift_curve(df.target, df.prediction, df.exposure)"
   ]
  },
  {
   "cell_type": "code",
   "execution_count": null,
   "metadata": {},
   "outputs": [],
   "source": [
    "0.21607\n",
    "\n",
    "mean: 0.043815 0.044271\n",
    "rmse: 0.216067\n",
    "gini: 0.32862359198864044\n",
    "deviance: 12.322948734266841"
   ]
  },
  {
   "cell_type": "code",
   "execution_count": null,
   "metadata": {},
   "outputs": [],
   "source": []
  },
  {
   "cell_type": "code",
   "execution_count": null,
   "metadata": {},
   "outputs": [],
   "source": [
    "! g++ -shared -Wall -Werror -fpic -O3 src/*.cpp -o ./bin/sgd.so"
   ]
  },
  {
   "cell_type": "code",
   "execution_count": 23,
   "metadata": {},
   "outputs": [],
   "source": [
    "! export C_INCLUDE_PATH=\"/usr/local/Cellar//python3/3.4.3/Frameworks/Python.framework/Versions/3.4/include/python3.4m\""
   ]
  }
 ],
 "metadata": {
  "kernelspec": {
   "display_name": "Python 3",
   "language": "python",
   "name": "python3"
  },
  "language_info": {
   "codemirror_mode": {
    "name": "ipython",
    "version": 3
   },
   "file_extension": ".py",
   "mimetype": "text/x-python",
   "name": "python",
   "nbconvert_exporter": "python",
   "pygments_lexer": "ipython3",
   "version": "3.4.3"
  }
 },
 "nbformat": 4,
 "nbformat_minor": 2
}
