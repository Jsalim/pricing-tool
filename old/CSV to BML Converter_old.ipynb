{
 "cells": [
  {
   "cell_type": "code",
   "execution_count": 23,
   "metadata": {
    "collapsed": true
   },
   "outputs": [],
   "source": [
    "import contextlib\n",
    "import mmap\n",
    "import os\n",
    "from struct import Struct\n",
    "\n",
    "import pandas as pd\n",
    "import numpy as np\n",
    "\n",
    "in_file = 'c:/data/axaf_mrh_appt.csv'\n",
    "out_file = 'c:/data/axaf_mrh_appt.bml'"
   ]
  },
  {
   "cell_type": "code",
   "execution_count": 24,
   "metadata": {
    "collapsed": true
   },
   "outputs": [],
   "source": [
    "class Feature:\n",
    "    \n",
    "    name = ''\n",
    "    min_value = 0\n",
    "    max_value = 0\n",
    "    count = 0\n",
    "    \n",
    "    def __init__(self, name, array_sample):\n",
    "        self.name = name\n",
    "        self.dtype_name = array_sample.dtype.name\n",
    "        values = array_sample.unique()\n",
    "        self.values = {} #{value: k for k, value in enumerate(values)}\n",
    "        if self.get_type() == str:\n",
    "            self.count = len(values)\n",
    "        else:\n",
    "            self.min_value = array_sample.min()\n",
    "            self.min_value = array_sample.max()\n",
    "        \n",
    "    def __repr__(self):\n",
    "        return str((self.name, str(self.get_type()), self.count, self.values, self.min_value, self.max_value))\n",
    "        \n",
    "    def get_type(self):\n",
    "        if 'float' in self.dtype_name:\n",
    "            return float\n",
    "        elif 'int' in self.dtype_name:\n",
    "            return int\n",
    "        elif 'object' in self.dtype_name:\n",
    "            return str\n",
    "        else:\n",
    "            raise Exception(\"Unknown type for feature: \", name)\n",
    "        \n",
    "    def get_binary_format(self):\n",
    "        if 'float' in self.dtype_name:\n",
    "            return 'f'\n",
    "        elif 'int' in self.dtype_name:\n",
    "            if abs(self.min_value) < 100 and abs(self.max_value) < 100:\n",
    "                return 'b'\n",
    "            elif abs(self.min_value) < 10000 and abs(self.max_value) < 10000:\n",
    "                return 'h'\n",
    "            return 'i'\n",
    "        elif 'object' in self.dtype_name:\n",
    "            if self.count < 200:\n",
    "                return 'b'\n",
    "            elif self.count < 10000:\n",
    "                return 'h'\n",
    "            else:\n",
    "                return 'i'\n",
    "        else:\n",
    "            raise Exception(\"incompatible type for feature: \" + self.name)\n",
    "            \n",
    "    def should_skip(self):\n",
    "        return self.count > 1000\n",
    "    \n",
    "    def cast_float(self, value):\n",
    "        result = self.values.get(value)\n",
    "        if result is None:\n",
    "            result = float(value)\n",
    "            self.values[value] = result\n",
    "        return result\n",
    "    \n",
    "    def cast_int(self, value):\n",
    "        result = self.values.get(value)\n",
    "        if result is None:\n",
    "            result = int(float(value))\n",
    "            self.values[value] = result\n",
    "        return result\n",
    "    \n",
    "    def cast_object(self, value):\n",
    "        result = self.values.get(value)\n",
    "        if result is None:\n",
    "            result = len(self.values)\n",
    "            self.values[value] = result\n",
    "        return result\n",
    "            \n",
    "    def get_cast(self):\n",
    "        if 'float' in self.dtype_name:\n",
    "            return self.cast_float\n",
    "        elif 'int' in self.dtype_name:\n",
    "            return self.cast_int  # TODO clean this\n",
    "        elif 'object' in self.dtype_name:\n",
    "            return self.cast_object\n",
    "        else:\n",
    "            raise Exception(\"Unknown type for feature: \", name)\n",
    "            \n",
    "    \n",
    "class Dataset:\n",
    "    \n",
    "    filename = ''\n",
    "    features = []\n",
    "    \n",
    "    def __init__(self, filename):\n",
    "        self.filename = filename\n",
    "        df = pd.read_csv(mhr_dataset_filename, nrows=10000)  \n",
    "        for name in list(df):\n",
    "            self.add(Feature(name, df[name]))\n",
    "            \n",
    "    def __repr__(self):\n",
    "        return '\\n'.join(map(str, self.features))\n",
    "    \n",
    "    def add(self, feature):\n",
    "        if feature.should_skip():\n",
    "            print('Skip feature: ', feature.name)\n",
    "        self.features.append(feature)\n",
    "        \n",
    "    def get_binary_format(self):\n",
    "        return '<' + ''.join([f.get_binary_format() for f in self.features if not f.should_skip()])\n",
    "    \n",
    "    def convert_csv_to_binary(self):\n",
    "        binary_io = Struct(self.get_binary_format())\n",
    "        with open(self.filename, 'r') as csv, open(self.filename[:-3] + 'bml', 'wb') as data_file:\n",
    "            i = 0\n",
    "            conv_features = [(i, f.get_cast(), ) for i, f in enumerate(self.features) if not f.should_skip()]\n",
    "            csv.readline()  # skip header\n",
    "            for line in csv:\n",
    "                try:\n",
    "                    values = line[:-1].split(',')\n",
    "                    values = [cast(values[j]) for j, cast in conv_features]\n",
    "                    data_file.write(binary_io.pack(*values))\n",
    "                    i += 1\n",
    "                    if i % 100000 == 0:\n",
    "                        print(i, ' lines converted')\n",
    "                except Exception as e:\n",
    "                    print(e)\n",
    "                    names = [f.name for f in self.features if not f.should_skip()]\n",
    "                    print(i, list(zip(names, self.get_binary_format()[1:], values)))\n",
    "                    break\n",
    "            print(\"nb lines: \", i)"
   ]
  },
  {
   "cell_type": "code",
   "execution_count": 25,
   "metadata": {
    "collapsed": false
   },
   "outputs": [
    {
     "name": "stdout",
     "output_type": "stream",
     "text": [
      "Skip feature:  newid\n",
      "100000  lines converted\n",
      "200000  lines converted\n",
      "300000  lines converted\n",
      "400000  lines converted\n",
      "500000  lines converted\n",
      "600000  lines converted\n",
      "700000  lines converted\n",
      "800000  lines converted\n",
      "900000  lines converted\n",
      "1000000  lines converted\n",
      "1100000  lines converted\n",
      "1200000  lines converted\n",
      "1300000  lines converted\n",
      "1400000  lines converted\n",
      "1500000  lines converted\n",
      "1600000  lines converted\n",
      "1700000  lines converted\n",
      "1800000  lines converted\n",
      "1900000  lines converted\n",
      "2000000  lines converted\n",
      "2100000  lines converted\n",
      "2200000  lines converted\n",
      "2300000  lines converted\n",
      "2400000  lines converted\n",
      "2500000  lines converted\n",
      "2600000  lines converted\n",
      "2700000  lines converted\n",
      "2800000  lines converted\n",
      "2900000  lines converted\n",
      "3000000  lines converted\n",
      "3100000  lines converted\n",
      "3200000  lines converted\n",
      "3300000  lines converted\n",
      "3400000  lines converted\n",
      "3500000  lines converted\n",
      "3600000  lines converted\n",
      "3700000  lines converted\n",
      "3800000  lines converted\n",
      "3900000  lines converted\n",
      "4000000  lines converted\n",
      "4100000  lines converted\n",
      "4200000  lines converted\n",
      "4300000  lines converted\n",
      "4400000  lines converted\n",
      "nb lines:  4459542\n"
     ]
    }
   ],
   "source": [
    "dataset = Dataset(in_file)\n",
    "#print(dataset)\n",
    "dataset.convert_csv_to_binary()"
   ]
  },
  {
   "cell_type": "code",
   "execution_count": 16,
   "metadata": {
    "collapsed": true
   },
   "outputs": [],
   "source": [
    "def get_column(file_name, binary_format, binary_line_format, offset=0):\n",
    "    binary_io = Struct(binary_format)\n",
    "    line_size = Struct(binary_line_format).size\n",
    "    with open(file_name, 'rb') as data_file:\n",
    "        file_size = os.fstat(data_file.fileno()).st_size\n",
    "        nb_rows = file_size // line_size\n",
    "        result = np.zeros(nb_rows, dtype='float32')\n",
    "        with contextlib.closing(mmap.mmap(data_file.fileno(), 0, access=mmap.ACCESS_READ)) as m:\n",
    "            for i in range(nb_rows):\n",
    "                pt = i * line_size + offset\n",
    "                result[i] = binary_io.unpack_from(m, pt)[0]\n",
    "    return result"
   ]
  },
  {
   "cell_type": "code",
   "execution_count": 17,
   "metadata": {
    "collapsed": false
   },
   "outputs": [
    {
     "name": "stdout",
     "output_type": "stream",
     "text": [
      "Skip feature:  newid\n"
     ]
    }
   ],
   "source": [
    "binary_line_format = Dataset(mhr_dataset_filename).get_binary_format()"
   ]
  },
  {
   "cell_type": "code",
   "execution_count": 18,
   "metadata": {
    "collapsed": false
   },
   "outputs": [],
   "source": [
    "density = get_column(out_file, '<f', binary_line_format)"
   ]
  },
  {
   "cell_type": "code",
   "execution_count": 22,
   "metadata": {
    "collapsed": false
   },
   "outputs": [
    {
     "data": {
      "text/plain": [
       "26253.76"
      ]
     },
     "execution_count": 22,
     "metadata": {},
     "output_type": "execute_result"
    }
   ],
   "source": [
    "np.max(density)"
   ]
  },
  {
   "cell_type": "code",
   "execution_count": null,
   "metadata": {
    "collapsed": true
   },
   "outputs": [],
   "source": []
  }
 ],
 "metadata": {
  "kernelspec": {
   "display_name": "Python 3",
   "language": "python",
   "name": "python3"
  },
  "language_info": {
   "codemirror_mode": {
    "name": "ipython",
    "version": 3
   },
   "file_extension": ".py",
   "mimetype": "text/x-python",
   "name": "python",
   "nbconvert_exporter": "python",
   "pygments_lexer": "ipython3",
   "version": "3.5.1"
  }
 },
 "nbformat": 4,
 "nbformat_minor": 0
}
