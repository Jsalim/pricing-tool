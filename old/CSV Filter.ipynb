{
 "cells": [
  {
   "cell_type": "code",
   "execution_count": 23,
   "metadata": {
    "collapsed": true
   },
   "outputs": [],
   "source": [
    "in_filename = 'c:/data/axaf_mrh_tot_freq_tot.csv'\n",
    "out_filename = 'c:/data/axaf_mrh_appt.csv'"
   ]
  },
  {
   "cell_type": "code",
   "execution_count": 24,
   "metadata": {
    "collapsed": false
   },
   "outputs": [
    {
     "name": "stdout",
     "output_type": "stream",
     "text": [
      "line  100000\n",
      "line  200000\n",
      "line  300000\n",
      "line  400000\n",
      "line  500000\n",
      "line  600000\n",
      "line  700000\n",
      "line  800000\n",
      "line  900000\n",
      "line  1000000\n",
      "line  1100000\n",
      "line  1200000\n",
      "line  1300000\n",
      "line  1400000\n",
      "line  1500000\n",
      "line  1600000\n",
      "line  1700000\n",
      "line  1800000\n",
      "line  1900000\n",
      "line  2000000\n",
      "line  2100000\n",
      "line  2200000\n",
      "line  2300000\n",
      "line  2400000\n",
      "line  2500000\n",
      "line  2600000\n",
      "line  2700000\n",
      "line  2800000\n",
      "line  2900000\n",
      "line  3000000\n",
      "line  3100000\n",
      "line  3200000\n",
      "line  3300000\n",
      "line  3400000\n",
      "line  3500000\n",
      "line  3600000\n",
      "line  3700000\n",
      "line  3800000\n",
      "line  3900000\n",
      "line  4000000\n",
      "line  4100000\n",
      "line  4200000\n",
      "line  4300000\n",
      "line  4400000\n",
      "FINISHED:  4459542  lines\n"
     ]
    }
   ],
   "source": [
    "import csv\n",
    "\n",
    "with open(in_filename) as in_file, open(out_filename, 'w', newline='') as out_file:  \n",
    "    reader = csv.reader(in_file)\n",
    "    writer = csv.writer(out_file)\n",
    "    fieldnames = next(reader)\n",
    "    writer.writerow(fieldnames)\n",
    "    \n",
    "    index_filter = fieldnames.index('HAB_hab')\n",
    "    \n",
    "    i = 0\n",
    "    for line in filter(lambda p: p[index_filter] == 'A', reader):\n",
    "        writer.writerow(line)\n",
    "        i += 1\n",
    "        if i % 100000 == 0:\n",
    "            print('line ', i)\n",
    "            \n",
    "print('FINISHED: ', i, ' lines')"
   ]
  },
  {
   "cell_type": "code",
   "execution_count": null,
   "metadata": {
    "collapsed": true
   },
   "outputs": [],
   "source": []
  }
 ],
 "metadata": {
  "kernelspec": {
   "display_name": "Python 3",
   "language": "python",
   "name": "python3"
  },
  "language_info": {
   "codemirror_mode": {
    "name": "ipython",
    "version": 3
   },
   "file_extension": ".py",
   "mimetype": "text/x-python",
   "name": "python",
   "nbconvert_exporter": "python",
   "pygments_lexer": "ipython3",
   "version": "3.5.1"
  }
 },
 "nbformat": 4,
 "nbformat_minor": 0
}
