{
 "cells": [
  {
   "cell_type": "code",
   "execution_count": 17,
   "metadata": {},
   "outputs": [],
   "source": [
    "import importlib\n",
    "import math\n",
    "\n",
    "import numpy as np\n",
    "import pandas as pd\n",
    "\n",
    "import preprocessing\n",
    "importlib.reload(preprocessing);"
   ]
  },
  {
   "cell_type": "code",
   "execution_count": 6,
   "metadata": {},
   "outputs": [],
   "source": [
    "filename = './data/axaf_mrh_ddea_freq_tot.csv' \n",
    "    \n",
    "features = [  \n",
    "    'POL_mtcapass',\n",
    "    #'EXT_dens_pop',\n",
    "    #'EXT_part_respr_1p',\n",
    "    #'EXT_part_respr_5p',\n",
    "    #'EXT_part_secocc',\n",
    "    #'EXT_part_surf_inf40',\n",
    "    #'EXT_part_surf_plus100',\n",
    "    #'EXT_part_rev_15K29k',\n",
    "    #'EXT_part_men_lochlm',\n",
    "    #'EXT_part_men_pror',\n",
    "    #'EXT_part_pop_18a24a',\n",
    "    #'EXT_part_pop_65a79a',\n",
    "    #'EXT_part_respr_chauf_aut',\n",
    "    #'EXT_part_respr_chauf_col',\n",
    "    #'EXT_part_respr_chauf_ind',\n",
    "    #'EXT_part_respr_chauf_indelec',\n",
    "    #'EXT_part_repsr_sdb1',\n",
    "    #'EXT_part_repsr_sdb2',\n",
    "    #'EXT_part_lgt_co',\n",
    "    #'EXT_part_lgt_vac',\n",
    "    #'EXT_part_pop_15dipsup',\n",
    "    #'EXT_part_pop_15ssdip',\n",
    "    #'EXT_gdeville',\n",
    "    'AUTV_prix_sra_max',\n",
    "    'AUTV_prix_sra_min',\n",
    "    'AUTV_rm',\n",
    "    'AUTV_segment_max',\n",
    "    'AUTV_segment_min',\n",
    "    'CLI_banque',\n",
    "    'POL_cdopmrh',\n",
    "    'POL_fract',\n",
    "    'POL_cdregion',\n",
    "    'HAB_cdresid',\n",
    "    'CLI_sex',\n",
    "    'POL_distrib',\n",
    "    'AUTV_energie_es',\n",
    "    'AUTV_energie_go',\n",
    "    'AUTV_k8000_n',\n",
    "    'AUTV_k8000_o',\n",
    "    'AUTV_prix_sra_ad',\n",
    "    'AUTV_prix_sra_ef',\n",
    "    'AUTV_prix_sra_gi',\n",
    "    'AUTV_prix_sra_jl',\n",
    "    'AUTV_prix_sra_mn',\n",
    "    'AUTV_prix_sra_supo',\n",
    "    'AUTV_segment_0',\n",
    "    'AUTV_segment_a',\n",
    "    'AUTV_segment_b',\n",
    "    'AUTV_segment_h',\n",
    "    'AUTV_segment_m1',\n",
    "    'AUTV_segment_m2',\n",
    "    'AUTV_nb_rc_12',\n",
    "    'AUTV_nb_rc_34',\n",
    "    'AUTV_nb_rc_56',\n",
    "    'AUTV_nb_rc_78',\n",
    "    'AUTV_nb_rc_sup9',\n",
    "    'AUTV_nb_vol_ab',\n",
    "    'AUTV_nb_vol_cd',\n",
    "    'AUTV_nb_vol_ef',\n",
    "    'AUTV_nb_vol_gh',\n",
    "    'AUTV_nb_vol_ij',\n",
    "    'AUTV_nb_vol_supk',\n",
    "    'HAB_inser',\n",
    "    'CLI_indice',\n",
    "    'AUTA_tot1a',\n",
    "    'AUTA_tot2a',\n",
    "    'AUTA_tot3a',\n",
    "    'AUTA_tot4a',\n",
    "    'POL_tx_objv',\n",
    "    'POL_tr_capass',\n",
    "    'CLI_age',\n",
    "    'annee',\n",
    "    'CLI_nb_contrat',\n",
    "    'CLI_nb_contrat_atr',\n",
    "    'CLI_nb_contrat_aup',\n",
    "    'CLI_nb_contrat_bqe',\n",
    "    'CLI_nb_contrat_epa',\n",
    "    'CLI_nb_contrat_hab',\n",
    "    'CLI_nb_contrat_mot',\n",
    "    'CLI_nb_contrat_mrp',\n",
    "    'CLI_nb_contrat_pf',\n",
    "    'CLI_nb_contrat_pju',\n",
    "    'CLI_nb_contrat_prv',\n",
    "    'CLI_nb_contrat_san',\n",
    "    'HAB_nb_pieces',\n",
    "    'CLI_nb_enfant',\n",
    "    'POL_fr',\n",
    "    'AUTA_b50_n',\n",
    "    'AUTA_b50_o',\n",
    "    'AUTA_rm_50',\n",
    "    'AUTA_rm_5060',\n",
    "    'AUTA_rm_6070',\n",
    "    'AUTA_rm_7090',\n",
    "    'AUTA_rm_inf50',\n",
    "    'AUTA_rm_sup90',\n",
    "    'HAB_surf_dep',\n",
    "    'HAB_inhab',\n",
    "    'AUTV_nb_rc',\n",
    "    'AUTV_nb_vol',\n",
    "    'POL_pac',\n",
    "    'POL_paj',\n",
    "    'POL_pan',\n",
    "    'POL_pap',\n",
    "    'POL_par',\n",
    "    'CLI_prod_entree',\n",
    "    'HAB_qual',\n",
    "    'POL_ran',\n",
    "    'CLI_top_atr',\n",
    "    'CLI_top_aup',\n",
    "    'CLI_top_bqe',\n",
    "    'CLI_top_epa',\n",
    "    'CLI_top_hab',\n",
    "    'CLI_top_mot',\n",
    "    'CLI_top_mrp',\n",
    "    'CLI_top_pf',\n",
    "    'CLI_top_pju',\n",
    "    'CLI_top_prv',\n",
    "    'CLI_top_san',\n",
    "    'HAB_top_jardin',\n",
    "    'CLI_tr_age',\n",
    "    'CLI_tr_ancli',\n",
    "    'CLI_tr_mtvi',\n",
    "    'CLI_tr_pm',\n",
    "    'HAB_habit_X_qual_X_inhab',\n",
    "    'POL_mtobv',\n",
    "    'POL_tr_tx_objv',\n",
    "    'CLI_cspf',\n",
    "    'REG_zoneAxa_a',\n",
    "    'REG_zoneAxa_m',\n",
    "    'Random',\n",
    "    'HAB_anclg',\n",
    "    'CLI_sit_fam2',\n",
    "    'AUTA_rm',\n",
    "    'HAB_hab',\n",
    "    'HAB_habit',\n",
    "    'POL_delec',\n",
    "    'POL_vol',\n",
    "    'CLI_tr_age_X_CSPf',\n",
    "    'ddea_quant_freq_20',\n",
    "    'ddea_quant_cm_10',\n",
    "    'ddem_quant_freq_20',\n",
    "    'ddem_quant_cm_20',\n",
    "    'clim_quant_pp_20',\n",
    "    'vol_quant_freq_20',\n",
    "    'vol_quant_cm_20',\n",
    "    'bdg_quant_freq_20',\n",
    "    'bdg_quant_cm_20',\n",
    "    'catnat_quant_pp_10',\n",
    "    'fire_quant_freq_20',\n",
    "    'HAB_habit_nbpieces',\n",
    "    'HAB_qual_inhab',\n",
    "    'POL_distrib_code',\n",
    "    'Zone_inc_cm_iris',\n",
    "    'Zone_inc_freq_iris',\n",
    "    'zone_vol_cm_insee',\n",
    "    'zone_vol_freq_insee',\n",
    "]\n",
    "exposure = 'anpol'\n",
    "targets = ['nbsinDDE']"
   ]
  },
  {
   "cell_type": "code",
   "execution_count": 7,
   "metadata": {},
   "outputs": [],
   "source": [
    "def data_transform(field, value):\n",
    "    if field == 'POL_mtcapass':\n",
    "        return int(math.log(float(value)))\n",
    "    return value"
   ]
  },
  {
   "cell_type": "code",
   "execution_count": null,
   "metadata": {},
   "outputs": [
    {
     "name": "stdout",
     "output_type": "stream",
     "text": [
      "Starting data importation.\n",
      "Importing 4 459 543 lines.\n",
      "Progress: |█████████████████---------------------------------| 36.0% Complete in 04m00s\r"
     ]
    }
   ],
   "source": [
    "features_name, features_mapping = preprocessing.transform(filename, './data/observations.dat', features, targets, exposure, data_transform)"
   ]
  },
  {
   "cell_type": "code",
   "execution_count": null,
   "metadata": {},
   "outputs": [],
   "source": [
    "features_name"
   ]
  },
  {
   "cell_type": "code",
   "execution_count": null,
   "metadata": {},
   "outputs": [],
   "source": [
    "list(enumerate(features_name))"
   ]
  },
  {
   "cell_type": "code",
   "execution_count": null,
   "metadata": {},
   "outputs": [],
   "source": [
    "modalities = list(zip(features_name, features_mapping))\n",
    "len(modalities)"
   ]
  },
  {
   "cell_type": "code",
   "execution_count": null,
   "metadata": {},
   "outputs": [],
   "source": [
    "modalities_list = []\n",
    "for name, values in modalities:\n",
    "    m = {v: k for k, v in values.items()}\n",
    "    for k in sorted(m):\n",
    "        modalities_list.append(name + ':' + str(k) + ':' + str(m[k]))"
   ]
  },
  {
   "cell_type": "code",
   "execution_count": null,
   "metadata": {},
   "outputs": [],
   "source": [
    "nb_modalities_per_feature = [(k[0], len(k[1])) for k in modalities]\n",
    "nb_modalities_per_feature"
   ]
  },
  {
   "cell_type": "code",
   "execution_count": null,
   "metadata": {},
   "outputs": [],
   "source": [
    "[v for k,v  in nb_modalities_per_feature]"
   ]
  },
  {
   "cell_type": "code",
   "execution_count": null,
   "metadata": {},
   "outputs": [],
   "source": [
    "np.cumsum([v for k,v  in nb_modalities_per_feature])"
   ]
  },
  {
   "cell_type": "code",
   "execution_count": null,
   "metadata": {},
   "outputs": [],
   "source": [
    "a = np.cumsum([v for k,v  in nb_modalities_per_feature])\n",
    "feature_zones = list(zip([0] + list(a), a))\n",
    "feature_zones\n",
    "\n",
    "def get_feature_mask(feature_idx):\n",
    "    n = feature_zones[-1][1]\n",
    "    mask = np.zeros(n, dtype='bool')\n",
    "    rmin = feature_zones[feature_idx][0]\n",
    "    rmax = feature_zones[feature_idx][1]\n",
    "    for i in range(rmin, rmax):\n",
    "        mask[i] = 1\n",
    "    return mask"
   ]
  },
  {
   "cell_type": "code",
   "execution_count": null,
   "metadata": {},
   "outputs": [],
   "source": [
    "list(zip(features_name + [' '], [0] + list(np.cumsum([v for k,v  in nb_modalities_per_feature]))))"
   ]
  },
  {
   "cell_type": "code",
   "execution_count": null,
   "metadata": {},
   "outputs": [],
   "source": [
    "nb_modalities = sum([v for k,v  in nb_modalities_per_feature])\n",
    "nb_modalities"
   ]
  },
  {
   "cell_type": "code",
   "execution_count": null,
   "metadata": {},
   "outputs": [],
   "source": [
    "cov = load_data('./data/covproduct.dat', dtype='double', shape=(nb_modalities, nb_modalities))\n",
    "yp = load_data('./data/yp.dat', dtype='double', shape=(nb_modalities))"
   ]
  },
  {
   "cell_type": "code",
   "execution_count": null,
   "metadata": {},
   "outputs": [],
   "source": [
    "coeffs, residuals, rank, s = np.linalg.lstsq(cov, yp, rcond=None)"
   ]
  },
  {
   "cell_type": "code",
   "execution_count": null,
   "metadata": {},
   "outputs": [],
   "source": [
    "def get_coeffs_norm(feature_idx):\n",
    "    mask = get_feature_mask(feature_idx)\n",
    "    n = coeffs[mask]\n",
    "    return np.sqrt(np.mean(np.square(n)))\n",
    "    \n",
    "coeffs_n2 = [get_coeffs_norm(i) for i in range(len(modalities))]\n",
    "coeffs_n2"
   ]
  },
  {
   "cell_type": "code",
   "execution_count": null,
   "metadata": {},
   "outputs": [],
   "source": [
    "[features_name[i] for i in reversed(np.argsort(coeffs_n2))]"
   ]
  },
  {
   "cell_type": "code",
   "execution_count": null,
   "metadata": {},
   "outputs": [],
   "source": [
    "mask = np.zeros(nb_modalities, dtype=\"bool\")\n",
    "for i in range(nb_modalities):\n",
    "    mask[i] = 1\n",
    "    try:\n",
    "        if np.linalg.det(cov[mask,:][:,mask]) == 0:   \n",
    "            for j in range(i):\n",
    "                mask2 = mask.copy()\n",
    "                mask2[j] == 0\n",
    "                if np.linalg.det(cov[mask2,:][:,mask2]) == 0: \n",
    "                    print(\"Removed: \", modalities_list[i], i, \"th column is colinear with \", modalities_list[j], j)\n",
    "            mask[i] = 0\n",
    "            print(\"Removed: \", modalities_list[i], i, \"th column is colinear!\")\n",
    "        else:\n",
    "            print(i, \"ok\")\n",
    "    except:\n",
    "        print(\"error on column\", i)\n",
    "print(\"Done\")"
   ]
  },
  {
   "cell_type": "code",
   "execution_count": null,
   "metadata": {},
   "outputs": [],
   "source": [
    "def col(cov):\n",
    "    mask = np.ones(nb_modalities, dtype=\"bool\")\n",
    "    features_to_remove = set()\n",
    "    for i in range(100):\n",
    "        if not mask[i]:\n",
    "            continue\n",
    "        u = cov[:,i]\n",
    "        nu = np.sqrt(np.inner(u, u))\n",
    "        if nu == 0:\n",
    "            mask[i] = 0\n",
    "            print(\"Removed: \", modalities_list[i],\". This modality has zero observations.\")\n",
    "            continue\n",
    "        for j in range(len(cov)):\n",
    "            if i==j:\n",
    "                continue\n",
    "            if not mask[j]:\n",
    "                continue\n",
    "            v = cov[:,j]\n",
    "            nv = np.sqrt(np.inner(v, v))\n",
    "            if nv == 0:\n",
    "                mask[j] = 0\n",
    "                print(\"Removed: \", modalities_list[j],\". This modality has zero observations.\")\n",
    "                continue\n",
    "            sp = np.inner(u, v) / (nu * nv)\n",
    "            if sp > 0.999999999:\n",
    "                print(modalities_list[i], \"and\", modalities_list[j], \"are colinears.\")\n",
    "                features_to_remove.add(modalities_list[i].split(':')[0])\n",
    "                features_to_remove.add(modalities_list[j].split(':')[0])\n",
    "    print(\"You should remove the following features : \" + str(features_to_remove))\n",
    "    return mask\n",
    "            \n",
    "col(cov)"
   ]
  },
  {
   "cell_type": "code",
   "execution_count": null,
   "metadata": {},
   "outputs": [],
   "source": [
    "np.linalg.det(cov)"
   ]
  },
  {
   "cell_type": "code",
   "execution_count": null,
   "metadata": {},
   "outputs": [],
   "source": [
    "cov[np.array([0, 1, 2, 3]),:][:,np.array([0, 1, 2, 3])]"
   ]
  },
  {
   "cell_type": "code",
   "execution_count": null,
   "metadata": {},
   "outputs": [],
   "source": [
    "np.linalg.solve(cov, yp)"
   ]
  },
  {
   "cell_type": "code",
   "execution_count": null,
   "metadata": {},
   "outputs": [],
   "source": [
    "np.sum(cov)"
   ]
  },
  {
   "cell_type": "code",
   "execution_count": null,
   "metadata": {},
   "outputs": [],
   "source": [
    "observations = np.memmap('./data/observations.dat', np.dtype('u1'))\n",
    "exposure_data = np.memmap('./data/exposure.dat', np.dtype('float32'))\n",
    "targets_data = np.memmap('./data/targets.dat', np.dtype('float32'))"
   ]
  },
  {
   "cell_type": "code",
   "execution_count": null,
   "metadata": {},
   "outputs": [],
   "source": [
    "\n",
    "(np.log(pd.read_csv(filename, nrows=100000)['POL_mtcapass'])).astype('int').unique() "
   ]
  },
  {
   "cell_type": "code",
   "execution_count": null,
   "metadata": {},
   "outputs": [],
   "source": [
    "df = pd.read_csv(filename, nrows=100000)\n",
    "for i in list(df):\n",
    "    if len(df[i].unique()) < 200:\n",
    "        print(\"'\" + i + \"',\")"
   ]
  },
  {
   "cell_type": "code",
   "execution_count": null,
   "metadata": {},
   "outputs": [],
   "source": [
    "set(list(df)) - set(features)"
   ]
  },
  {
   "cell_type": "code",
   "execution_count": null,
   "metadata": {},
   "outputs": [],
   "source": [
    "len(features)"
   ]
  }
 ],
 "metadata": {
  "kernelspec": {
   "display_name": "Python 3",
   "language": "python",
   "name": "python3"
  },
  "language_info": {
   "codemirror_mode": {
    "name": "ipython",
    "version": 3
   },
   "file_extension": ".py",
   "mimetype": "text/x-python",
   "name": "python",
   "nbconvert_exporter": "python",
   "pygments_lexer": "ipython3",
   "version": "3.6.5"
  }
 },
 "nbformat": 4,
 "nbformat_minor": 2
}
