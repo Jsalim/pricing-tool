{
 "cells": [
  {
   "cell_type": "code",
   "execution_count": 26,
   "metadata": {},
   "outputs": [],
   "source": [
    "import pandas as pd\n",
    "import numpy as np\n",
    "import perf\n",
    "import metrics\n",
    "\n",
    "import matplotlib\n",
    "import matplotlib.pyplot as plt\n",
    "from matplotlib.ticker import MultipleLocator\n",
    "%matplotlib inline"
   ]
  },
  {
   "cell_type": "code",
   "execution_count": null,
   "metadata": {},
   "outputs": [],
   "source": [
    "0.217744\n"
   ]
  },
  {
   "cell_type": "code",
   "execution_count": 38,
   "metadata": {},
   "outputs": [
    {
     "name": "stdout",
     "output_type": "stream",
     "text": [
      "\u001b[1msrc/ALinearRegressor.cpp:58:17: \u001b[0m\u001b[0;1;35mwarning: \u001b[0m\u001b[1munused variable 'pos'\n",
      "      [-Wunused-variable]\u001b[0m\n",
      "            int pos = k * 200 * 200 + xi[k];\n",
      "\u001b[0;1;32m                ^\n",
      "\u001b[0m1 warning generated.\n"
     ]
    }
   ],
   "source": [
    "! g++ -Wall -std=c++11 -O3 src/*.cpp -o ./bin/sgd"
   ]
  },
  {
   "cell_type": "code",
   "execution_count": 34,
   "metadata": {},
   "outputs": [
    {
     "data": {
      "text/plain": [
       "0.008599931200550396"
      ]
     },
     "execution_count": 34,
     "metadata": {},
     "output_type": "execute_result"
    }
   ],
   "source": [
    "100 / (152*153//2)"
   ]
  },
  {
   "cell_type": "code",
   "execution_count": 29,
   "metadata": {},
   "outputs": [],
   "source": [
    "a = np.random.rand(4459540)"
   ]
  },
  {
   "cell_type": "code",
   "execution_count": 30,
   "metadata": {},
   "outputs": [
    {
     "name": "stdout",
     "output_type": "stream",
     "text": [
      "2.57 ms ± 17.2 µs per loop (mean ± std. dev. of 7 runs, 100 loops each)\n"
     ]
    }
   ],
   "source": [
    "%%timeit\n",
    "np.inner(a, a)"
   ]
  },
  {
   "cell_type": "code",
   "execution_count": 37,
   "metadata": {},
   "outputs": [
    {
     "name": "stdout",
     "output_type": "stream",
     "text": [
      "START 445954\n",
      "DONE 445954\n",
      "\n",
      "real\t0m8.596s\n",
      "user\t0m8.447s\n",
      "sys\t0m0.138s\n"
     ]
    }
   ],
   "source": [
    "!time ./bin/sgd"
   ]
  },
  {
   "cell_type": "code",
   "execution_count": 262,
   "metadata": {},
   "outputs": [
    {
     "name": "stdout",
     "output_type": "stream",
     "text": [
      "mean: 0.042779 0.043846\n",
      "rmse: 0.213943\n",
      "gini: 0.3513768016686123\n",
      "deviance: 12.192066797710133\n"
     ]
    },
    {
     "data": {
      "image/png": "[encoded data removed]",
      "text/plain": [
       "<Figure size 432x288 with 2 Axes>"
      ]
     },
     "metadata": {},
     "output_type": "display_data"
    }
   ],
   "source": [
    "df = pd.read_csv(\"./data/results.csv\")\n",
    "print('mean:', round(np.sum(df.prediction) / np.sum(df.exposure), 6), round(np.sum(df.target) / np.sum(df.exposure), 6))\n",
    "print('rmse:', round(perf.root_mean_square_error(df.target, df.prediction, df.exposure), 6))\n",
    "print('gini:', metrics.gini_emblem_fast(df.target, df.prediction, df.exposure))\n",
    "print('deviance:', np.log(metrics.poisson_deviance(df.target, df.prediction, df.exposure)))\n",
    "metrics.plot_lift_curve(df.target, df.prediction, df.exposure, n_band=20)"
   ]
  },
  {
   "cell_type": "code",
   "execution_count": null,
   "metadata": {},
   "outputs": [],
   "source": [
    "0.21607\n",
    "\n",
    "mean: 0.043815 0.044271\n",
    "rmse: 0.216067\n",
    "gini: 0.32862359198864044\n",
    "deviance: 12.322948734266841"
   ]
  },
  {
   "cell_type": "code",
   "execution_count": null,
   "metadata": {},
   "outputs": [],
   "source": []
  }
 ],
 "metadata": {
  "kernelspec": {
   "display_name": "Python 3",
   "language": "python",
   "name": "python3"
  },
  "language_info": {
   "codemirror_mode": {
    "name": "ipython",
    "version": 3
   },
   "file_extension": ".py",
   "mimetype": "text/x-python",
   "name": "python",
   "nbconvert_exporter": "python",
   "pygments_lexer": "ipython3",
   "version": "3.4.3"
  }
 },
 "nbformat": 4,
 "nbformat_minor": 2
}
