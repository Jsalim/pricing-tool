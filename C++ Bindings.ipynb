{
 "cells": [
  {
   "cell_type": "code",
   "execution_count": null,
   "metadata": {},
   "outputs": [],
   "source": [
    "import pandas as pd\n",
    "import numpy as np\n",
    "import metrics\n",
    "\n",
    "import matplotlib\n",
    "import matplotlib.pyplot as plt\n",
    "from matplotlib.ticker import MultipleLocator\n",
    "%matplotlib inline\n",
    "\n",
    "import preprocessing"
   ]
  },
  {
   "cell_type": "code",
   "execution_count": null,
   "metadata": {},
   "outputs": [],
   "source": [
    "!time g++ -Wall -std=c++11 -O3 src/*.cpp -o ./bin/sgd"
   ]
  },
  {
   "cell_type": "code",
   "execution_count": null,
   "metadata": {},
   "outputs": [],
   "source": [
    "!time ./bin/sgd data/mrh nbsinDDE"
   ]
  },
  {
   "cell_type": "code",
   "execution_count": null,
   "metadata": {
    "scrolled": true
   },
   "outputs": [],
   "source": [
    "df = pd.read_csv(\"./data/results.csv\")\n",
    "print('mean:', round(np.sum(df.prediction) / np.sum(df.exposure), 6), round(np.sum(df.target) / np.sum(df.exposure), 6))\n",
    "print('rmse:', round(metrics.root_mean_square_error(df.target, df.prediction, df.exposure), 6))\n",
    "print('gini:', metrics.gini_emblem_fast(df.target, df.prediction, df.exposure))\n",
    "print('deviance:', np.log(metrics.poisson_deviance(df.target, df.prediction, df.exposure)))\n",
    "metrics.plot_lift_curve(df.target, df.prediction, df.exposure, n_band=20)"
   ]
  },
  {
   "cell_type": "code",
   "execution_count": null,
   "metadata": {},
   "outputs": [],
   "source": [
    "metadata = preprocessing.Metadata(\"data\", \"mrh\")\n",
    "metadata.load()"
   ]
  },
  {
   "cell_type": "code",
   "execution_count": null,
   "metadata": {},
   "outputs": [],
   "source": [
    "n = metadata.size\n",
    "p = metadata.count_features()\n",
    "def load_data(file_path, dtype='int32', shape=None):\n",
    "    return np.memmap(file_path, dtype=dtype, shape=shape)\n",
    "\n",
    "data = load_data(metadata.get_feature_filename(), dtype=np.dtype('u1'), shape=(n, p))"
   ]
  },
  {
   "cell_type": "code",
   "execution_count": null,
   "metadata": {},
   "outputs": [],
   "source": [
    "df_coeffs = pd.read_csv('data/mrh/coeffs.csv').as_matrix()\n",
    "df_coeffs = np.exp(df_coeffs)\n",
    "\n",
    "def get_coeffs(feature_range):\n",
    "    return df_coeffs[1 + np.array(feature_range)]    "
   ]
  },
  {
   "cell_type": "code",
   "execution_count": null,
   "metadata": {},
   "outputs": [],
   "source": [
    "test_data = data[df.row,:]"
   ]
  },
  {
   "cell_type": "code",
   "execution_count": null,
   "metadata": {},
   "outputs": [],
   "source": [
    "def plot_relativities(df, feature, idx, modalities):\n",
    "    try:\n",
    "        modalities = [float(m) for m in modalities]\n",
    "        if sum([m - int(m) for m in modalities]) == 0:\n",
    "            modalities = [int(m) for m in modalities]\n",
    "    except:\n",
    "        pass\n",
    "    \n",
    "    df['f'] = test_data[:, idx]\n",
    "\n",
    "    m = df.target.mean()\n",
    "    relativity = df.groupby(['f']).agg({'exposure': 'sum', 'target': 'mean', 'prediction': 'mean'})\n",
    "    relativity.target /= m\n",
    "    relativity.prediction /= m\n",
    "    relativity['one'] = 1\n",
    "    relativity['modalities'] = modalities\n",
    "    relativity['coeffs'] = get_coeffs(metadata.get_feature_range(feature))\n",
    "    if(relativity['coeffs'].sum() == relativity['coeffs'].count()):\n",
    "        return\n",
    "    relativity = relativity.sort_values('modalities')\n",
    "    size = relativity.prediction.size\n",
    "    ar = np.arange(size)\n",
    "    \n",
    "    max_exposure = relativity.exposure.max()\n",
    "    \n",
    "    fig, ax1 = plt.subplots(figsize=(10, 8))\n",
    "\n",
    "    ax1.bar(ar, relativity.exposure, color='#fffca0', edgecolor='grey')\n",
    "    ax1.set_ylim(ymax=max_exposure * 3)\n",
    "    ax1.set_xticks(ar)\n",
    "    ax1.set_xticklabels(labels=relativity.modalities)\n",
    "  \n",
    "    ax2 = ax1.twinx()\n",
    "    ax2.set_title(feature)\n",
    "    ax2.plot(ar, relativity.prediction, color=\"#0f600e\", marker=\".\")\n",
    "    ax2.plot(ar, relativity.target, color=\"#c242f4\", marker=\".\")\n",
    "    ax2.plot(ar, relativity.coeffs, color=\"#93ff9e\",marker=\"^\")\n",
    "    ax2.axhline(y=1, color='black', linewidth=1, linestyle=\"dotted\")\n",
    "    ax2.set_ylim(ymin=0)\n",
    "    \n",
    "    plt.show()\n",
    "    \n",
    "for f in metadata.features:\n",
    "    try:\n",
    "        plot_relativities(df, f, metadata.get_feature_index(f), metadata.get_modalities(f))\n",
    "    except:\n",
    "        print('Error ploting relativity chart for ', f)"
   ]
  },
  {
   "cell_type": "code",
   "execution_count": null,
   "metadata": {},
   "outputs": [],
   "source": []
  }
 ],
 "metadata": {
  "kernelspec": {
   "display_name": "Python 3",
   "language": "python",
   "name": "python3"
  },
  "language_info": {
   "codemirror_mode": {
    "name": "ipython",
    "version": 3
   },
   "file_extension": ".py",
   "mimetype": "text/x-python",
   "name": "python",
   "nbconvert_exporter": "python",
   "pygments_lexer": "ipython3",
   "version": "3.6.5"
  }
 },
 "nbformat": 4,
 "nbformat_minor": 2
}
