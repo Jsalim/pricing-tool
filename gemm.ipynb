{
 "cells": [
  {
   "cell_type": "code",
   "execution_count": 1,
   "metadata": {},
   "outputs": [],
   "source": [
    "import numpy as np"
   ]
  },
  {
   "cell_type": "code",
   "execution_count": 2,
   "metadata": {},
   "outputs": [],
   "source": [
    "def create_data_file_from_list(lst, out_filename, dtype, shape):\n",
    "    \"\"\"Write a list in a binary file as a numpy array.\n",
    "    Args:\n",
    "        lst: The list that will be written in the file.\n",
    "        out_filename: The name of the binary file. It must be in the same\n",
    "            directory.\n",
    "        dtype: The type of the numpy array.\n",
    "        shape: The shape of the numpy array.\n",
    "    \"\"\"\n",
    "    with open(out_filename, 'wb+') as out_file:\n",
    "        out_file = open(out_filename, 'wb+')\n",
    "        dat_file = np.memmap(out_file, dtype=dtype, shape=shape)\n",
    "        dat_file[:] = lst[:]\n",
    "        dat_file.flush()\n",
    "        size = float(dat_file.nbytes) / (1024 ** 2)\n",
    "        print('written %s : %.3f MB' % (out_filename, size))\n",
    "\n",
    "\n",
    "def load_data(file_path, dtype='int32', shape=None):\n",
    "    '''\n",
    "    Loads a numpy array in memory from the filesystem.\n",
    "    '''\n",
    "    return np.memmap(file_path, dtype=dtype, shape=shape)"
   ]
  },
  {
   "cell_type": "code",
   "execution_count": 3,
   "metadata": {},
   "outputs": [],
   "source": [
    "n = 4459542\n",
    "p = 156\n",
    "m = load_data('./dataset/mrh_ddea/features.dat', dtype='uint8').reshape(n, p)"
   ]
  },
  {
   "cell_type": "code",
   "execution_count": 4,
   "metadata": {},
   "outputs": [
    {
     "data": {
      "text/plain": [
       "(4459542, 156)"
      ]
     },
     "execution_count": 4,
     "metadata": {},
     "output_type": "execute_result"
    }
   ],
   "source": [
    "m.shape#"
   ]
  },
  {
   "cell_type": "code",
   "execution_count": 5,
   "metadata": {},
   "outputs": [
    {
     "name": "stdout",
     "output_type": "stream",
     "text": [
      "written ./dataset/test/mt.dat : 663.460 MB\n"
     ]
    }
   ],
   "source": [
    "create_data_file_from_list(m.T, './dataset/test/mt.dat', 'uint8', (p, n))"
   ]
  },
  {
   "cell_type": "code",
   "execution_count": 66,
   "metadata": {},
   "outputs": [
    {
     "name": "stdout",
     "output_type": "stream",
     "text": [
      "\u001b[1m./src/test/gemm.cpp:18:11: \u001b[0m\u001b[0;1;35mwarning: \u001b[0m\u001b[1munused variable 'd' [-Wunused-variable]\u001b[0m\n",
      "    float d[p];\n",
      "\u001b[0;1;32m          ^\n",
      "\u001b[0m1 warning generated.\n"
     ]
    }
   ],
   "source": [
    "!c++ -Wall -std=c++11 -O3 ./src/test/gemm.cpp ./src/cpp/Array.cpp -o ./bin/gemm"
   ]
  },
  {
   "cell_type": "code",
   "execution_count": 67,
   "metadata": {},
   "outputs": [
    {
     "name": "stdout",
     "output_type": "stream",
     "text": [
      "Loading data file : ./dataset/test/mt.dat\n",
      "0\n",
      "1\n",
      "2\n",
      "3\n",
      "4\n",
      "5\n",
      "6\n",
      "7\n",
      "8\n",
      "9\n",
      "10\n",
      "11\n",
      "12\n",
      "13\n",
      "14\n",
      "15\n",
      "16\n",
      "17\n",
      "18\n",
      "19\n",
      "20\n",
      "21\n",
      "22\n",
      "23\n",
      "24\n",
      "25\n",
      "26\n",
      "27\n",
      "28\n",
      "29\n",
      "30\n",
      "31\n",
      "32\n",
      "33\n",
      "34\n",
      "35\n",
      "36\n",
      "37\n",
      "38\n",
      "39\n",
      "\n",
      "real\t0m3.710s\n",
      "user\t0m3.653s\n",
      "sys\t0m0.047s\n"
     ]
    }
   ],
   "source": [
    "!time ./bin/gemm"
   ]
  },
  {
   "cell_type": "code",
   "execution_count": 65,
   "metadata": {},
   "outputs": [
    {
     "data": {
      "text/plain": [
       "1.9820186666666666"
      ]
     },
     "execution_count": 65,
     "metadata": {},
     "output_type": "execute_result"
    }
   ],
   "source": [
    "n * 40 * 40 / (3.6 * 1000000000)"
   ]
  },
  {
   "cell_type": "code",
   "execution_count": 6,
   "metadata": {},
   "outputs": [],
   "source": [
    "Xt = load_data('./dataset/test/mt.dat', 'uint8', (p, n))"
   ]
  },
  {
   "cell_type": "code",
   "execution_count": 7,
   "metadata": {},
   "outputs": [
    {
     "data": {
      "text/plain": [
       "13"
      ]
     },
     "execution_count": 7,
     "metadata": {},
     "output_type": "execute_result"
    }
   ],
   "source": [
    "Xt[1, :].max()"
   ]
  },
  {
   "cell_type": "code",
   "execution_count": 15,
   "metadata": {},
   "outputs": [],
   "source": [
    "#%%timeit\n",
    "a = (Xt[1, :] == 1).astype('float')"
   ]
  },
  {
   "cell_type": "code",
   "execution_count": 17,
   "metadata": {},
   "outputs": [
    {
     "name": "stdout",
     "output_type": "stream",
     "text": [
      "1.81 ms ± 37.1 µs per loop (mean ± std. dev. of 7 runs, 1000 loops each)\n"
     ]
    }
   ],
   "source": [
    "%%timeit\n",
    "np.dot(a, a)"
   ]
  },
  {
   "cell_type": "code",
   "execution_count": 19,
   "metadata": {},
   "outputs": [
    {
     "data": {
      "text/plain": [
       "38880.0"
      ]
     },
     "execution_count": 19,
     "metadata": {},
     "output_type": "execute_result"
    }
   ],
   "source": [
    "1800*(1800 * 0.012)"
   ]
  },
  {
   "cell_type": "code",
   "execution_count": 22,
   "metadata": {},
   "outputs": [
    {
     "data": {
      "text/plain": [
       "array([  7,  13,  20,  11,  20,  12,  16,  20,  20,  13,  20,  11,  15,\n",
       "        16,  14,  20,  20,   8,   8,  20,  13,  17,  19,  10,   6,   6,\n",
       "         1,   6,   6,  44,   6,   2,   5,   1,   2,  10,   2,   3,   1,\n",
       "         1,   1,   1,   1,   1,   1,   1,   1,   1,   1,   1,   1,   1,\n",
       "         1,   2,   1,   1,   1,   1,   1,   1,   1,   1,   1,   1,   5,\n",
       "        15,  24,  27,  33,   5,  30, 130,   4,  50,  46,  26,  21,  33,\n",
       "        50,  15,  29,  12,  10,  15,  13,  14,   2,   1,   1,   1,   1,\n",
       "         1,   1,   1,   1,   1,   2,   1,   1,   6,   1,   1,   1,   1,\n",
       "         1,  10,   1,   1,   1,   1,   1,   1,   1,   1,   1,   1,   1,\n",
       "         1,   1,   1,   8,   8,   9,   9,   8,  24,   5,  11,  11,  16,\n",
       "         9,   3,   3,   6,   1,   1,   1,  80,  20,  10,  20,  20,  20,\n",
       "        20,  20,  20,  20,  10,  20,  29,   3,   3,   7,  20,  15,  20],\n",
       "      dtype=uint8)"
      ]
     },
     "execution_count": 22,
     "metadata": {},
     "output_type": "execute_result"
    }
   ],
   "source": [
    "mi = Xt.max(axis=1)\n",
    "P = np.zeros((mi.max(), n), 'float')\n",
    "Y = np.random.rand(n)\n",
    "mi"
   ]
  },
  {
   "cell_type": "code",
   "execution_count": 29,
   "metadata": {},
   "outputs": [
    {
     "name": "stdout",
     "output_type": "stream",
     "text": [
      "8.34 s ± 192 ms per loop (mean ± std. dev. of 7 runs, 1 loop each)\n"
     ]
    }
   ],
   "source": [
    "%%timeit\n",
    "mimax = int(mi.max())\n",
    "d = np.zeros(p * mimax)\n",
    "for j in range(p):\n",
    "    for i in range(mi[j]):\n",
    "        d[j * mimax + i] = Y[Xt[j, :] == i].sum()"
   ]
  },
  {
   "cell_type": "code",
   "execution_count": 30,
   "metadata": {},
   "outputs": [
    {
     "name": "stdout",
     "output_type": "stream",
     "text": [
      "117 ms ± 15.5 ms per loop (mean ± std. dev. of 7 runs, 10 loops each)\n"
     ]
    }
   ],
   "source": [
    "%%timeit\n",
    "R = P @ P.T"
   ]
  },
  {
   "cell_type": "code",
   "execution_count": 45,
   "metadata": {},
   "outputs": [
    {
     "data": {
      "text/plain": [
       "16.0"
      ]
     },
     "execution_count": 45,
     "metadata": {},
     "output_type": "execute_result"
    }
   ],
   "source": [
    "np = 10\n",
    "0.32 * np * np / 2"
   ]
  },
  {
   "cell_type": "code",
   "execution_count": null,
   "metadata": {},
   "outputs": [],
   "source": []
  }
 ],
 "metadata": {
  "kernelspec": {
   "display_name": "Python 3",
   "language": "python",
   "name": "python3"
  },
  "language_info": {
   "codemirror_mode": {
    "name": "ipython",
    "version": 3
   },
   "file_extension": ".py",
   "mimetype": "text/x-python",
   "name": "python",
   "nbconvert_exporter": "python",
   "pygments_lexer": "ipython3",
   "version": "3.6.2"
  }
 },
 "nbformat": 4,
 "nbformat_minor": 2
}
