{
 "cells": [
  {
   "cell_type": "code",
   "execution_count": 1768,
   "metadata": {
    "collapsed": false
   },
   "outputs": [],
   "source": [
    "from math import sqrt, log, log10\n",
    "\n",
    "import numpy as np\n",
    "import matplotlib\n",
    "import matplotlib.pyplot as plt\n",
    "from sklearn import datasets, linear_model\n",
    "\n",
    "%matplotlib inline  "
   ]
  },
  {
   "cell_type": "code",
   "execution_count": 1259,
   "metadata": {
    "collapsed": false
   },
   "outputs": [],
   "source": [
    "def moving_average(a, n=3) :\n",
    "    cum = np.cumsum(a, dtype=float)\n",
    "    ret = cum + 0\n",
    "    for i in range(len(ret)):\n",
    "        if i < n:\n",
    "            ret[i] = cum[i] / (i+1)\n",
    "        else:\n",
    "            ret[i] = (cum[i] - cum[i-n])/n\n",
    "    return ret"
   ]
  },
  {
   "cell_type": "code",
   "execution_count": 1730,
   "metadata": {
    "collapsed": false
   },
   "outputs": [],
   "source": [
    "def fit_block(x, y, nb_adaptative_steps=1000, moving_average_size=1000):\n",
    "    n = x.shape[0]\n",
    "    p = x.shape[1]\n",
    "    \n",
    "    max_iterations = max(1000000, n)\n",
    "    a = 1\n",
    "    alphas = np.zeros(nb_adaptative_steps + 1)\n",
    "    b = np.ones(p)\n",
    "    errors = np.zeros(max_iterations)\n",
    "    \n",
    "    for i in range(1, max_iterations):\n",
    "        row = i % n\n",
    "        e = np.inner(x[row], b) - y[row]\n",
    "        b -= a * x[row] * e\n",
    "        errors[i-1] = abs(e)\n",
    "\n",
    "        if i <= nb_adaptative_steps:\n",
    "            e_updated = np.inner(x[row], b) - y[row]\n",
    "            if abs(e_updated) > abs(e):\n",
    "                a *= (1 - 0.999**i)\n",
    "            else:\n",
    "                a *= 1.1\n",
    "            alphas[i-1] = a\n",
    "            if i == nb_adaptative_steps:\n",
    "                a = np.average(alphas)\n",
    "                alphas[i] = a\n",
    "            \n",
    "        #if i % 10000 == 0:\n",
    "        #    log_trailing_error = np.average(errors[i-moving_average_size:i])\n",
    "        #    log_trailing_error_before = np.average(errors[i-max(i // 10, 10000):i-max(i // 10, 10000) + moving_average_size])\n",
    "        #    if log_trailing_error >= log_trailing_error_before:\n",
    "        #        break\n",
    "        \n",
    "    nb_betas = min(i, n)\n",
    "    betas = np.zeros(p)\n",
    "    for j in range(nb_betas):\n",
    "        row = (i + j) % n\n",
    "        e = np.inner(x[row], b) - y[row]\n",
    "        b -= a * x[row] * e\n",
    "        betas += b \n",
    "    betas  /= nb_betas\n",
    "    \n",
    "    return (i, betas, alphas, errors[:i])"
   ]
  },
  {
   "cell_type": "code",
   "execution_count": 1839,
   "metadata": {
    "collapsed": true
   },
   "outputs": [],
   "source": [
    "def arrray_iterator(x, y):\n",
    "    size = x.shape[0]\n",
    "    i = 0\n",
    "    while True:\n",
    "        yield (x[i % size], y[i % size])\n",
    "        i += 1\n",
    "        \n",
    "def file_iterator(file_name):\n",
    "    while True:\n",
    "        with open(file_name, 'r') as data_file:\n",
    "            values = data_file.readline().split(',')\n",
    "            values = list(map(float, values))\n",
    "            yield(np.array(values[:-1]), values[-1])"
   ]
  },
  {
   "cell_type": "code",
   "execution_count": 1840,
   "metadata": {
    "collapsed": false
   },
   "outputs": [],
   "source": [
    "def fit_online(n, p, xy_iterator, fit_intercept=True, nb_adaptative_steps=1000, moving_average_size=1000, p1=0, p2=0):\n",
    "    max_iterations = max(1000000, n)\n",
    "    a = 1\n",
    "    alphas = np.zeros(nb_adaptative_steps + 1)\n",
    "    intercept = 0\n",
    "    b = np.ones(p)\n",
    "    errors = np.zeros(max_iterations)\n",
    "    \n",
    "    for i in range(1, max_iterations):\n",
    "        x, y = next(xy_iterator)\n",
    "        if i == 1:\n",
    "            print (x, y)\n",
    "        e = np.inner(x, b) + intercept - y \n",
    "        e_regularized = e + np.sum(p1 * np.abs(b) + p2 * np.square(b))\n",
    "        if fit_intercept:\n",
    "            intercept -= a * e * 100\n",
    "        b -= (a * e) * x + p1 * np.sign(b) + p2 * b\n",
    "        errors[i-1] = abs(e)\n",
    "\n",
    "        if i <= nb_adaptative_steps:\n",
    "            e_updated = np.inner(x, b) + intercept - y + np.sum(p1 * np.abs(b) + p2 * np.square(b))\n",
    "            if abs(e_updated) > abs(e_regularized):\n",
    "                a *= (1 - 0.999**min(i, 1000))\n",
    "            else:\n",
    "                a *= 1.1\n",
    "            alphas[i-1] = a\n",
    "            if i == nb_adaptative_steps:\n",
    "                a = np.average(alphas)\n",
    "                alphas[i] = a\n",
    "            \n",
    "        if i % 10000 == 0:\n",
    "            log_trailing_error = np.average(errors[i-moving_average_size:i])\n",
    "            log_trailing_error_before = np.average(errors[i-max(i // 10, 10000):i-max(i // 10, 10000) + moving_average_size])\n",
    "            if log_trailing_error >= log_trailing_error_before:\n",
    "                break\n",
    "    \n",
    "    a = np.average(alphas)\n",
    "    nb_betas = min(i, n)\n",
    "    intercepts = 0\n",
    "    betas = np.zeros(p)\n",
    "    for j in range(nb_betas):\n",
    "        x, y = next(xy_iterator)\n",
    "        e = np.inner(x, b) + intercept - y\n",
    "        if fit_intercept:\n",
    "            intercept -= a * e\n",
    "        b -= (a * e) * x + p1 * np.sign(b) + p2 * b\n",
    "        intercepts += intercept\n",
    "        betas += b \n",
    "    intercepts /= nb_betas\n",
    "    betas  /= nb_betas\n",
    "    \n",
    "    return (i, intercepts, betas, alphas, errors[:i])"
   ]
  },
  {
   "cell_type": "code",
   "execution_count": 1863,
   "metadata": {
    "collapsed": true
   },
   "outputs": [],
   "source": [
    "p = 10\n",
    "n = 100000\n",
    "\n",
    "\n",
    "beta = np.random.random(p) #* 2 - 1\n",
    "\n",
    "x = np.random.random(p * n).reshape((n, p,))\n",
    "#x = np.hstack((np.ones((n, 1)), x))\n",
    "y = np.dot(x, beta) + np.random.normal(size=n) / 1000 + 1"
   ]
  },
  {
   "cell_type": "code",
   "execution_count": 1865,
   "metadata": {
    "collapsed": false
   },
   "outputs": [],
   "source": [
    "with open('data.csv', 'w') as data_file:\n",
    "    for i in range(len(x)):\n",
    "        line = list(x[i]) + [y[i]]\n",
    "        data_file.write(','.join(map(lambda x: str(round(x, 3)), line)) + '\\n')"
   ]
  },
  {
   "cell_type": "code",
   "execution_count": 1866,
   "metadata": {
    "collapsed": false
   },
   "outputs": [
    {
     "data": {
      "text/plain": [
       "array([[ 0.31691897,  0.15466947,  0.48020593, ...,  0.66381595,\n",
       "         0.24710938,  0.25916909],\n",
       "       [ 0.62137053,  0.12031181,  0.65236073, ...,  0.76411381,\n",
       "         0.54893862,  0.19947662],\n",
       "       [ 0.0897673 ,  0.24574477,  0.48359382, ...,  0.38425705,\n",
       "         0.46406855,  0.66819164],\n",
       "       ..., \n",
       "       [ 0.50504186,  0.73121018,  0.19352571, ...,  0.67812181,\n",
       "         0.97262728,  0.32164077],\n",
       "       [ 0.79397674,  0.04705617,  0.54703893, ...,  0.21013751,\n",
       "         0.89145507,  0.97833492],\n",
       "       [ 0.36554   ,  0.76436275,  0.61310614, ...,  0.85533175,\n",
       "         0.03314254,  0.63743971]])"
      ]
     },
     "execution_count": 1866,
     "metadata": {},
     "output_type": "execute_result"
    }
   ],
   "source": [
    "x\n"
   ]
  },
  {
   "cell_type": "code",
   "execution_count": 1867,
   "metadata": {
    "collapsed": false
   },
   "outputs": [
    {
     "name": "stdout",
     "output_type": "stream",
     "text": [
      "[  8.10308171e-05   3.30530904e-04  -2.05934469e-04  -3.79083449e-04\n",
      "   3.48172789e-04   1.44359021e-04  -4.62048486e-04   1.84054351e-04\n",
      "  -1.09381358e-04  -1.69091121e-04] 0.000163417978681\n",
      "[ 0.317  0.155  0.48   0.564  0.318  0.938  0.377  0.664  0.247  0.259] 3.295\n",
      "[ 0.31691897  0.15466947  0.48020593  0.56437908  0.31765183  0.93785564\n",
      "  0.37746205  0.66381595  0.24710938  0.25916909] 3.29483658202\n",
      "[-0.30437053  0.03468819 -0.17236073 -0.13629807  0.14019903  0.08204372\n",
      " -0.37808754 -0.10011381 -0.30193862  0.05952338] -0.482138386437\n",
      "[ 0.317  0.155  0.48   0.564  0.318  0.938  0.377  0.664  0.247  0.259] 3.295\n",
      "[ 0.62137053  0.12031181  0.65236073  0.70029807  0.17780097  0.85595628\n",
      "  0.75508754  0.76411381  0.54893862  0.19947662] 3.77713838644\n",
      "[ 0.2272327  -0.09074477 -0.00359382 -0.16391265  0.0777019   0.65699005\n",
      "  0.06990813  0.27974295 -0.21706855 -0.40919164] 0.133660269539\n",
      "[ 0.317  0.155  0.48   0.564  0.318  0.938  0.377  0.664  0.247  0.259] 3.295\n",
      "[ 0.0897673   0.24574477  0.48359382  0.72791265  0.2402981   0.28100995\n",
      "  0.30709187  0.38425705  0.46406855  0.66819164] 3.16133973046\n",
      "[ 0.28350582 -0.4774692   0.10324775  0.45322236  0.22952191  0.68054859\n",
      " -0.04474927 -0.26071023 -0.55907472 -0.28274654] -0.0850352295474\n",
      "[ 0.317  0.155  0.48   0.564  0.318  0.938  0.377  0.664  0.247  0.259] 3.295\n",
      "[ 0.03349418  0.6324692   0.37675225  0.11077764  0.08847809  0.25745141\n",
      "  0.42174927  0.92471023  0.80607472  0.54174654] 3.38003522955\n",
      "[-0.49011493 -0.72512866 -0.39121439 -0.37021526  0.08463352 -0.0141039\n",
      " -0.19183522  0.51279164 -0.44306092 -0.07718678] -1.09978383263\n",
      "[ 0.317  0.155  0.48   0.564  0.318  0.938  0.377  0.664  0.247  0.259] 3.295\n",
      "[ 0.80711493  0.88012866  0.87121439  0.93421526  0.23336648  0.9521039\n",
      "  0.56883522  0.15120836  0.69006092  0.33618678] 4.39478383263\n",
      "[-0.38295584 -0.55110383  0.19194623 -0.17012593 -0.11941841  0.27782658\n",
      "  0.03399725  0.00722691 -0.28578486 -0.19530343] -0.681559984763\n",
      "[ 0.317  0.155  0.48   0.564  0.318  0.938  0.377  0.664  0.247  0.259] 3.295\n",
      "[ 0.69995584  0.70610383  0.28805377  0.73412593  0.43741841  0.66017342\n",
      "  0.34300275  0.65677309  0.53278486  0.45430343] 3.97655998476\n",
      "[-0.39346474 -0.24695762 -0.22819985 -0.09532145 -0.05491166  0.60952097\n",
      " -0.0491652   0.31107018 -0.2698502  -0.49417746] -0.282887547684\n",
      "[ 0.317  0.155  0.48   0.564  0.318  0.938  0.377  0.664  0.247  0.259] 3.295\n",
      "[ 0.71046474  0.40195762  0.70819985  0.65932145  0.37291166  0.32847903\n",
      "  0.4261652   0.35292982  0.5168502   0.75317746] 3.57788754768\n",
      "[ 0.08736313 -0.70561304 -0.20980621 -0.08776583  0.29600413  0.17446855\n",
      " -0.08505684  0.45064127 -0.69696895  0.15705372] -0.575407399017\n",
      "[ 0.317  0.155  0.48   0.564  0.318  0.938  0.377  0.664  0.247  0.259] 3.295\n",
      "[ 0.22963687  0.86061304  0.68980621  0.65176583  0.02199587  0.76353145\n",
      "  0.46205684  0.21335873  0.94396895  0.10194628] 3.87040739902\n",
      "[-0.08169659 -0.54052423 -0.29865731  0.40355484 -0.62090889  0.09615589\n",
      " -0.16841878 -0.03199581 -0.38096861  0.04525365] -0.661843904866\n",
      "[ 0.317  0.155  0.48   0.564  0.318  0.938  0.377  0.664  0.247  0.259] 3.295\n",
      "[ 0.39869659  0.69552423  0.77865731  0.16044516  0.93890889  0.84184411\n",
      "  0.54541878  0.69599581  0.62796861  0.21374635] 3.95684390487\n",
      "[ 0.07098643 -0.72066509 -0.48988602  0.32682925 -0.12816197  0.30702174\n",
      " -0.15429406  0.21574462  0.15550031  0.12717902] 0.111896223416\n",
      "[ 0.317  0.155  0.48   0.564  0.318  0.938  0.377  0.664  0.247  0.259] 3.295\n",
      "[ 0.24601357  0.87566509  0.96988602  0.23717075  0.44616197  0.63097826\n",
      "  0.53129406  0.44825538  0.09149969  0.13182098] 3.18310377658\n"
     ]
    }
   ],
   "source": [
    "fi =file_iterator('data.csv')\n",
    "ai = arrray_iterator(x, y)\n",
    "for i in range(10):\n",
    "    x, y = next(fi)\n",
    "    w, z = next(ai)\n",
    "    print(x-w, y-z)\n",
    "    print(x, y)\n",
    "    print(w, z)"
   ]
  },
  {
   "cell_type": "code",
   "execution_count": 1849,
   "metadata": {
    "collapsed": false
   },
   "outputs": [
    {
     "name": "stdout",
     "output_type": "stream",
     "text": [
      "[ 0.047  0.521  0.42   0.189  0.718  0.064  0.36   0.348  0.657  0.016] 2.613\n",
      "minimum achieved at : 80\n",
      "lambda :  4.93040163622e+33\n",
      "error :  0.0\n",
      "20000 th iteration\n",
      "intercept :  -0.714931948706\n",
      "Trailing error :  [ 0.]\n",
      "Difference of coefficient : 4.95397649044 [ 0.52279158  0.26048464  0.56656967  0.51701802  0.36386301]\n",
      "NB of non null coefficients :  10\n",
      "Mean squared error : 0.84\n",
      "Sum of log10 abs error :  -0.10142875894761438\n"
     ]
    },
    {
     "data": {
      "image/png": "[encoded data removed]",
      "text/plain": [
       "<matplotlib.figure.Figure at 0xa8c72e8>"
      ]
     },
     "metadata": {},
     "output_type": "display_data"
    },
    {
     "data": {
      "image/png": "[encoded data removed]",
      "text/plain": [
       "<matplotlib.figure.Figure at 0xa8d0550>"
      ]
     },
     "metadata": {},
     "output_type": "display_data"
    },
    {
     "name": "stdout",
     "output_type": "stream",
     "text": [
      "[ 0.99966398  0.9962752   0.99699729  0.99864878  0.99486679  0.99954244\n",
      "  0.99742624  0.99751204  0.9953029   0.99988561]\n"
     ]
    }
   ],
   "source": [
    "#i, intercept, b, l, errors = fit_online(x.shape[0], x.shape[1], arrray_iterator(x, y), p1=0)\n",
    "i, intercept, b, l, errors = fit_online(x.shape[0], x.shape[1], file_iterator('data.csv'), p1=0)\n",
    "trailing_errors = moving_average(errors, 1000)\n",
    "\n",
    "print('minimum achieved at :', np.argmin(errors))\n",
    "print('lambda : ', l[-1])\n",
    "print('error : ', errors[-1])\n",
    "print(i, 'th iteration')\n",
    "print('intercept : ', intercept)\n",
    "print('Trailing error : ', trailing_errors[-1:])\n",
    "print(\"Difference of coefficient :\", np.sum(abs(beta - b)), abs((b-beta)[:5]))\n",
    "print('NB of non null coefficients : ', np.count_nonzero(np.greater(b, 0.01)))\n",
    "print(\"Mean squared error : %.2f\" % np.mean(np.square((np.inner(x, b) + intercept - y))))\n",
    "e = np.average(np.abs(np.inner(x, b) + intercept - y))\n",
    "print(\"Sum of log10 abs error : \", log10(e))\n",
    "\n",
    "fig = plt.figure()\n",
    "ax = fig.add_subplot(111)\n",
    "line, = ax.plot(range(len(errors)), np.log10(errors + 1e-20))\n",
    "ax = fig.add_subplot(111)\n",
    "line, = ax.plot(range(len(errors)), np.log10(trailing_errors + 1e-20), color='red')\n",
    "ax = fig.add_subplot(111)\n",
    "line, = ax.plot(range(len(errors)), np.ones(len(errors))*np.log10(e), color='green')\n",
    "plt.show()\n",
    "fig = plt.figure()\n",
    "ax = fig.add_subplot(111)\n",
    "line, = ax.plot(range(len(l)), np.log10(l + 1e-20))\n",
    "ax = fig.add_subplot(111)\n",
    "line, = ax.plot(range(len(l)), np.log10(trailing_errors + 1e-20)[:len(l)], color='red')\n",
    "ax = fig.add_subplot(111)\n",
    "line, = ax.plot(range(len(l)), np.ones(len(l))*np.log10(l[-1] + 1e-20), color='green')\n",
    "plt.show()\n",
    "print(b)"
   ]
  },
  {
   "cell_type": "code",
   "execution_count": 1802,
   "metadata": {
    "collapsed": false
   },
   "outputs": [
    {
     "name": "stdout",
     "output_type": "stream",
     "text": [
      "Difference of coefficient : 0.313905930658\n",
      "Mean squared error: 0.00\n",
      "Sum of log10 abs error :  -2.512939001517372\n"
     ]
    }
   ],
   "source": [
    "regr = linear_model.SGDRegressor(fit_intercept=True)\n",
    "regr.fit(x, y)\n",
    "\n",
    "# The mean squared error\n",
    "print(\"Difference of coefficient :\", np.sum(abs(beta - regr.coef_)))\n",
    "x_hat = regr.predict(x)\n",
    "print(\"Mean squared error: %.2f\" % np.mean(np.square((x_hat - y))))\n",
    "print(\"Sum of log10 abs error : \", log10(np.average(np.abs(x_hat - y))))\n",
    "# Explained variance score: 1 is perfect prediction\n",
    "# print('Variance score: %.2f' % regr.score(x, y))"
   ]
  },
  {
   "cell_type": "code",
   "execution_count": null,
   "metadata": {
    "collapsed": false
   },
   "outputs": [],
   "source": []
  },
  {
   "cell_type": "code",
   "execution_count": 5,
   "metadata": {
    "collapsed": false
   },
   "outputs": [
    {
     "name": "stdout",
     "output_type": "stream",
     "text": [
      "10 loops, best of 3: 61.9 ms per loop\n"
     ]
    }
   ],
   "source": [
    "%%timeit\n",
    "i, b, l, errors, trailing_errors = fit(x, y)"
   ]
  },
  {
   "cell_type": "code",
   "execution_count": null,
   "metadata": {
    "collapsed": true
   },
   "outputs": [],
   "source": [
    "def fit(x, y, l=0.001):\n",
    "    epsilon = 1e-20\n",
    "    batch_size = x.shape[1]\n",
    "    moving_average_size = 20\n",
    "    \n",
    "    b = np.zeros(p)\n",
    "    errors =[]\n",
    "    trailing_errors =[]\n",
    "    i = 0\n",
    "    while True:\n",
    "        row = (i * batch_size) % n\n",
    "        e = (np.dot(x[row:row + batch_size], b) - y[row:row + batch_size]) / batch_size\n",
    "        b = b - np.dot(x[row:row + batch_size].transpose(), e) * l\n",
    "        errors.append(np.sum(np.abs(e)) + epsilon)\n",
    "        trailing_errors.append(np.average(errors[-moving_average_size:]))\n",
    "        #if errors[-1] > errors[0] * 2:\n",
    "        #    print(i, errors[-1], errors[0])\n",
    "        #    return (i, b, l,errors, trailing_errors)\n",
    "        if (i > 10 * n / batch_size):# or (i >= 20 and log10(trailing_errors[-1]) > log10(trailing_errors[-max(i // 10, moving_average_size)])):\n",
    "            return (i, b, l,errors, trailing_errors)\n",
    "        i += 1\n",
    "    \n",
    "\n",
    "def fit_schedule(x, y, eta0=0.1, power_t=0.6):\n",
    "    epsilon = 1e-20\n",
    "    moving_average_size = 100\n",
    "    p = x.shape[1]\n",
    "    \n",
    "    b = np.zeros(p)\n",
    "    errors =[]\n",
    "    trailing_errors =[]\n",
    "    i = 1\n",
    "    while True:\n",
    "        row = i % n\n",
    "        e = np.inner(x[row], b) - y[row]\n",
    "        b = b - x[row] * e * eta0 / i**power_t\n",
    "        #print(eta0/i**power_t)\n",
    "        errors.append(abs(e) + epsilon)\n",
    "        trailing_errors.append(np.average(errors[-moving_average_size:]))\n",
    "        if(trailing_errors[-1] > trailing_errors[0] * 1.5):\n",
    "            b = np.zeros(p)\n",
    "        if (i > 100000): \n",
    "            return (i, b, l,errors, trailing_errors)\n",
    "        i += 1\n",
    "        "
   ]
  },
  {
   "cell_type": "code",
   "execution_count": null,
   "metadata": {
    "collapsed": false
   },
   "outputs": [],
   "source": []
  },
  {
   "cell_type": "code",
   "execution_count": null,
   "metadata": {
    "collapsed": true
   },
   "outputs": [],
   "source": []
  },
  {
   "cell_type": "code",
   "execution_count": 716,
   "metadata": {
    "collapsed": true
   },
   "outputs": [],
   "source": [
    "def fit_schedule_batch(x, y, eta0=0.1, power_t=0.6):\n",
    "    epsilon = 1e-20\n",
    "    p = x.shape[1]\n",
    "    batch_size = 10\n",
    "    moving_average_size = 10\n",
    "    \n",
    "    b = np.zeros(p)\n",
    "    errors =[]\n",
    "    trailing_errors =[]\n",
    "    i = 1\n",
    "    while True:\n",
    "        row = (i * batch_size) % n\n",
    "        e = (np.dot(x[row:row + batch_size], b) - y[row:row + batch_size]) / batch_size\n",
    "        b = b - np.dot(x[row:row + batch_size].transpose(), e) * eta0 / i**power_t\n",
    "        errors.append(np.sum(np.abs(e)) + epsilon)\n",
    "        trailing_errors.append(np.average(errors[-moving_average_size:]))\n",
    "        if(trailing_errors[-1] > trailing_errors[0] * 1.2):\n",
    "            b = np.zeros(p)\n",
    "        if (i > 100000 / batch_size): \n",
    "            return (i, b, l,errors, trailing_errors)\n",
    "        i += 1"
   ]
  },
  {
   "cell_type": "code",
   "execution_count": 760,
   "metadata": {
    "collapsed": false
   },
   "outputs": [
    {
     "name": "stdout",
     "output_type": "stream",
     "text": [
      "lambda :  1.0408277903093217\n",
      "error :  0.00314086758854\n",
      "10001 th iteration - trailing error:  [0.0029291921904411326]\n",
      "Difference of coefficient : 0.0169987943789\n",
      "Mean squared error: 0.00\n",
      "Sum of log10 abs error :  -2.545981279626473\n"
     ]
    },
    {
     "data": {
      "image/png": "[encoded data removed]",
      "text/plain": [
       "<matplotlib.figure.Figure at 0xa7a1390>"
      ]
     },
     "metadata": {},
     "output_type": "display_data"
    }
   ],
   "source": [
    "eta0 = 0.1\n",
    "power_t = 0.5\n",
    "\n",
    "i, b, l, errors, trailing_errors = fit_schedule_batch(x, y, eta0, power_t)\n",
    "\n",
    "print('lambda : ', l)\n",
    "# print('coeff for trailing error : ', coeff_trailing_error)\n",
    "print('error : ', errors[-1])\n",
    "print(i, 'th iteration - trailing error: ', trailing_errors[-1:])\n",
    "print(\"Difference of coefficient :\", np.sum(abs(beta - b)))\n",
    "print(\"Mean squared error: %.2f\" % np.mean(np.square((np.dot(x, b) - y))))\n",
    "print(\"Sum of log10 abs error : \", log10(np.average(np.abs(np.inner(x, b) - y))))\n",
    "\n",
    "fig = plt.figure()\n",
    "ax = fig.add_subplot(111)\n",
    "line, = ax.plot(range(len(errors)), np.log10(errors))\n",
    "ax = fig.add_subplot(111)\n",
    "line, = ax.plot(range(len(errors)), np.log10(trailing_errors), color='red')\n",
    "plt.show()"
   ]
  },
  {
   "cell_type": "code",
   "execution_count": null,
   "metadata": {
    "collapsed": true
   },
   "outputs": [],
   "source": [
    "def fit_basic(x, y, l=0.001):\n",
    "    epsilon = 1e-20\n",
    "    moving_average_size = 20\n",
    "    \n",
    "    b = np.zeros(p)\n",
    "    errors =[]\n",
    "    trailing_errors =[]\n",
    "    i = 0\n",
    "    while True:\n",
    "        row = i % n\n",
    "        e = np.inner(x[row], b) - y[row]\n",
    "        b = b - x[row] * e * l\n",
    "        errors.append(abs(e) + epsilon)\n",
    "        trailing_errors.append(np.average(errors[-moving_average_size:]))\n",
    "        #if errors[-1] > errors[0] * 2:\n",
    "        #    print(i, errors[-1], errors[0])\n",
    "        #    return (i, b, l,errors, trailing_errors)\n",
    "        if (i > 10 * n): # or (i >= moving_average_size and log10(trailing_errors[-1]) > log10(trailing_errors[-max(i // 10, moving_average_size)])):\n",
    "            return (i, b, l,errors, trailing_errors)\n",
    "        i += 1\n",
    "   "
   ]
  },
  {
   "cell_type": "code",
   "execution_count": null,
   "metadata": {
    "collapsed": true
   },
   "outputs": [],
   "source": [
    "def fit_block(x, y, l=0.5):\n",
    "    epsilon = 1e-20\n",
    "    n = x.shape[0]\n",
    "    batch_size = 1 #x.shape[1]\n",
    "    moving_average_size = 1000\n",
    "    \n",
    "    b = np.ones(p)\n",
    "    errors =[]\n",
    "    trailing_errors =[]\n",
    "    i = 0\n",
    "    while True:\n",
    "        row = (i * batch_size) % n\n",
    "        e = (np.dot(x[row:row + batch_size], b) - y[row:row + batch_size]) / batch_size\n",
    "        b2 = b - np.dot(x[row:row + batch_size].transpose(), e) * l\n",
    "        e2 = (np.dot(x[row:row + batch_size], b2) - y[row:row + batch_size]) / batch_size\n",
    "        if sum(abs(e2)) > sum(abs(e)):\n",
    "            l = l * 0.3\n",
    "        else:\n",
    "            l = l * 1.02\n",
    "        b = b2\n",
    "        e = e2\n",
    "        errors.append(np.sum(np.abs(e)) + epsilon)\n",
    "        trailing_errors.append(np.average(errors[-moving_average_size:]))\n",
    "        if (i > 1000000) or (i >= 10000 and log10(trailing_errors[-1]) > log10(trailing_errors[-max(i // 10, moving_average_size)])):\n",
    "            return (i, b, l,errors, trailing_errors)\n",
    "        i += 1"
   ]
  }
 ],
 "metadata": {
  "kernelspec": {
   "display_name": "Python 3",
   "language": "python",
   "name": "python3"
  },
  "language_info": {
   "codemirror_mode": {
    "name": "ipython",
    "version": 3
   },
   "file_extension": ".py",
   "mimetype": "text/x-python",
   "name": "python",
   "nbconvert_exporter": "python",
   "pygments_lexer": "ipython3",
   "version": "3.5.1"
  }
 },
 "nbformat": 4,
 "nbformat_minor": 0
}
