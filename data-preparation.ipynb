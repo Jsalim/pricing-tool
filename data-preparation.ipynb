{
 "cells": [
  {
   "cell_type": "code",
   "execution_count": null,
   "metadata": {},
   "outputs": [],
   "source": [
    "import inspect\n",
    "import json\n",
    "import math\n",
    "\n",
    "def data_transform(row):\n",
    "    row['FEATURE_1'] = int(math.log(float(row['FEATURE_1'])))\n",
    "    \n",
    "def data_filter(row):\n",
    "    return True\n",
    "\n",
    "def data_train(row):\n",
    "    return row['Random'] != '9' and row['Random'] != '10'\n",
    "\n",
    "json.dumps({\n",
    "    \"transform\": inspect.getsource(data_transform),\n",
    "    \"filter\": inspect.getsource(data_filter),\n",
    "    \"train\": inspect.getsource(data_train),\n",
    "})"
   ]
  },
  {
   "cell_type": "code",
   "execution_count": null,
   "metadata": {
    "scrolled": true
   },
   "outputs": [],
   "source": [
    "! python src/py/dataset.py ./config/dataset_XXX.json"
   ]
  }
 ],
 "metadata": {
  "kernelspec": {
   "display_name": "Python 3",
   "language": "python",
   "name": "python3"
  },
  "language_info": {
   "codemirror_mode": {
    "name": "ipython",
    "version": 3
   },
   "file_extension": ".py",
   "mimetype": "text/x-python",
   "name": "python",
   "nbconvert_exporter": "python",
   "pygments_lexer": "ipython3",
   "version": "3.6.2"
  }
 },
 "nbformat": 4,
 "nbformat_minor": 2
}
