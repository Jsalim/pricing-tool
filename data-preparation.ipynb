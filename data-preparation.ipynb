{
 "cells": [
  {
   "cell_type": "code",
   "execution_count": 11,
   "metadata": {},
   "outputs": [],
   "source": [
    "import inspect\n",
    "import json\n",
    "import math\n",
    "\n",
    "def data_transform(row):\n",
    "    row['POL_mtcapass'] = int(math.log(float(row['POL_mtcapass'])))\n",
    "    row['EXT_superficie_m2_num'] = int(math.log(float(row['EXT_superficie_m2_num']) + 2))\n",
    "    \n",
    "def data_filter(row):\n",
    "    return True\n",
    "\n",
    "def data_train(row):\n",
    "    return row['Random'] != '9' and row['Random'] != '10'\n",
    "\n",
    "json.dumps({\n",
    "    \"transform\": inspect.getsource(data_transform),\n",
    "    \"filter\": inspect.getsource(data_filter),\n",
    "    \"train\": inspect.getsource(data_train),\n",
    "})"
   ]
  },
  {
   "cell_type": "code",
   "execution_count": 10,
   "metadata": {},
   "outputs": [
    {
     "name": "stdout",
     "output_type": "stream",
     "text": [
      "'POL_mtcapass',\n",
      "'anpol',\n",
      "'chargeDDEm',\n",
      "'chargeVOLm',\n",
      "'chargeRCm',\n",
      "'chargeBDGm',\n",
      "'anpolDEL',\n",
      "'anpolVOL',\n",
      "'EXT_superficie_m2_num',\n",
      "'newid',\n"
     ]
    },
    {
     "data": {
      "text/plain": [
       "9     10183\n",
       "8     10162\n",
       "3     10020\n",
       "1     10006\n",
       "5      9968\n",
       "4      9965\n",
       "10     9935\n",
       "6      9927\n",
       "2      9925\n",
       "7      9909\n",
       "Name: Random, dtype: int64"
      ]
     },
     "execution_count": 10,
     "metadata": {},
     "output_type": "execute_result"
    }
   ],
   "source": [
    "import pandas as pd\n",
    "df = pd.read_csv(\"data/axaf_mrh_ddea_freq_tot.csv\", nrows=100000)\n",
    "#for i in list(df):\n",
    "#    if len(df[i].unique()) > 200:\n",
    "#        print(\"'\" + i + \"',\")"
   ]
  },
  {
   "cell_type": "code",
   "execution_count": 44,
   "metadata": {
    "scrolled": true
   },
   "outputs": [
    {
     "name": "stdout",
     "output_type": "stream",
     "text": [
      "Processing congif file : ./config/dataset_mrh_ddea.json\n",
      "Starting data importation from ./data/axaf_mrh_ddea_freq_tot.csv\n",
      "Importing 4 459 542 lines.\n",
      "Progress: |██████████████████████████████████████████████████| 100.0% Complete in 11m07s\n",
      "written ./dataset/mrh_ddea/features.dat : 663.460 MB\n",
      "written ./dataset/mrh_ddea/train.dat : 13.613 MB\n",
      "written ./dataset/mrh_ddea/test.dat : 3.399 MB\n",
      "Saved dataset to  ./dataset/mrh_ddea/dataset.json\n"
     ]
    }
   ],
   "source": [
    "! python src/py/dataset.py ./config/dataset_mrh_ddea.json"
   ]
  },
  {
   "cell_type": "code",
   "execution_count": 45,
   "metadata": {},
   "outputs": [
    {
     "name": "stdout",
     "output_type": "stream",
     "text": [
      "Processing congif file : ./config/dataset_mrh_inc.json\n",
      "Starting data importation from ./data/axaf_mrh_tot_freq_tot.csv\n",
      "Importing 8 420 945 lines.\n",
      "Progress: |██████████████████████████████████████████████████| 100.0% Complete in 22m14s\n",
      "written ./dataset/mrh_inc/features.dat : 1260.842 MB\n",
      "written ./dataset/mrh_inc/train.dat : 25.706 MB\n",
      "written ./dataset/mrh_inc/test.dat : 6.418 MB\n",
      "Saved dataset to  ./dataset/mrh_inc/dataset.json\n"
     ]
    }
   ],
   "source": [
    "! python src/py/dataset.py ./config/dataset_mrh_inc.json"
   ]
  },
  {
   "cell_type": "code",
   "execution_count": 47,
   "metadata": {},
   "outputs": [
    {
     "name": "stdout",
     "output_type": "stream",
     "text": [
      "Processing congif file : ./config/dataset_mrh_vol.json\n",
      "Starting data importation from ./data/axaf_mrh_tot_freq_tot.csv\n",
      "Importing 8 420 945 lines.\n",
      "Progress: |██████████████████████████████████████████████████| 100.0% Complete in 22m00s\n",
      "written ./dataset/mrh_vol/features.dat : 1246.627 MB\n",
      "written ./dataset/mrh_vol/train.dat : 25.579 MB\n",
      "written ./dataset/mrh_vol/test.dat : 6.386 MB\n",
      "Saved dataset to  ./dataset/mrh_vol/dataset.json\n"
     ]
    }
   ],
   "source": [
    "! python src/py/dataset.py ./config/dataset_mrh_vol.json"
   ]
  }
 ],
 "metadata": {
  "kernelspec": {
   "display_name": "Python 3",
   "language": "python",
   "name": "python3"
  },
  "language_info": {
   "codemirror_mode": {
    "name": "ipython",
    "version": 3
   },
   "file_extension": ".py",
   "mimetype": "text/x-python",
   "name": "python",
   "nbconvert_exporter": "python",
   "pygments_lexer": "ipython3",
   "version": "3.6.2"
  }
 },
 "nbformat": 4,
 "nbformat_minor": 2
}
