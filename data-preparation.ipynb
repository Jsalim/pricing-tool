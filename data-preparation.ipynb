{
 "cells": [
  {
   "cell_type": "code",
   "execution_count": null,
   "metadata": {},
   "outputs": [],
   "source": [
    "import math\n",
    "\n",
    "def data_transform(row):\n",
    "    row['POL_mtcapass'] = int(math.log(float(row['POL_mtcapass'])))\n",
    "    row['EXT_superficie_m2_num'] = int(math.log(float(row['EXT_superficie_m2_num']) + 2))\n",
    "    \n",
    "def data_filter(row):\n",
    "    return True"
   ]
  },
  {
   "cell_type": "code",
   "execution_count": null,
   "metadata": {},
   "outputs": [],
   "source": [
    "import inspect\n",
    "import json\n",
    "\n",
    "json.dumps({\n",
    "    \"transform\": inspect.getsource(data_transform),\n",
    "    \"filter\": inspect.getsource(data_filter),\n",
    "})"
   ]
  },
  {
   "cell_type": "code",
   "execution_count": null,
   "metadata": {},
   "outputs": [],
   "source": [
    "df = pd.read_csv(filename, nrows=100000)\n",
    "for i in list(df):\n",
    "    if len(df[i].unique()) > 200:\n",
    "        print(\"'\" + i + \"',\")"
   ]
  },
  {
   "cell_type": "code",
   "execution_count": 103,
   "metadata": {},
   "outputs": [
    {
     "name": "stdout",
     "output_type": "stream",
     "text": [
      "Processing congif file : ./config/dataset_mrh_ddea.json\n",
      "Starting data importation from ./data/axaf_mrh_ddea_freq_tot.csv\n",
      "Importing 4 459 542 lines.\n",
      "Progress: |██████████████████████████████████████████████████| 100.0% Complete in 13m28s\n",
      "written ./dataset/mrh_ddea/features.dat : 663.460 MB\n",
      "written ./dataset/mrh_ddea/column_anpol.dat : 17.012 MB\n",
      "written ./dataset/mrh_ddea/column_chargeDDEm.dat : 17.012 MB\n",
      "written ./dataset/mrh_ddea/column_nbsinDDE.dat : 17.012 MB\n",
      "Saved metadata to  ./dataset/mrh_ddea/metadata.json\n"
     ]
    }
   ],
   "source": [
    "! python src/py/dataset.py ./config/dataset_mrh_ddea.json"
   ]
  },
  {
   "cell_type": "code",
   "execution_count": 104,
   "metadata": {},
   "outputs": [
    {
     "name": "stdout",
     "output_type": "stream",
     "text": [
      "Processing congif file : ./config/dataset_mrh_inc.json\n",
      "Starting data importation from ./data/axaf_mrh_tot_freq_tot.csv\n",
      "Importing 8 420 945 lines.\n",
      "Progress: |██████████████████████████████████████████████████| 100.0% Complete in 26m23s\n",
      "written ./dataset/mrh_inc/features.dat : 1260.842 MB\n",
      "written ./dataset/mrh_inc/column_anpol.dat : 32.123 MB\n",
      "written ./dataset/mrh_inc/column_chargeBDGm.dat : 32.123 MB\n",
      "written ./dataset/mrh_inc/column_chargeCATNATm.dat : 32.123 MB\n",
      "written ./dataset/mrh_inc/column_chargeCLIMm.dat : 32.123 MB\n",
      "written ./dataset/mrh_inc/column_chargeDDEm.dat : 32.123 MB\n",
      "written ./dataset/mrh_inc/column_chargeDELECm.dat : 32.123 MB\n",
      "written ./dataset/mrh_inc/column_chargeINCattri.dat : 32.123 MB\n",
      "written ./dataset/mrh_inc/column_chargeINCgr.dat : 32.123 MB\n",
      "written ./dataset/mrh_inc/column_chargeRCm.dat : 32.123 MB\n",
      "written ./dataset/mrh_inc/column_chargeVOLm.dat : 32.123 MB\n",
      "written ./dataset/mrh_inc/column_nbsinBDG.dat : 32.123 MB\n",
      "written ./dataset/mrh_inc/column_nbsinCATNAT.dat : 32.123 MB\n",
      "written ./dataset/mrh_inc/column_nbsinCATNAT2.dat : 32.123 MB\n",
      "written ./dataset/mrh_inc/column_nbsinCLIM.dat : 32.123 MB\n",
      "written ./dataset/mrh_inc/column_nbsinDDE.dat : 32.123 MB\n",
      "written ./dataset/mrh_inc/column_nbsinDELEC.dat : 32.123 MB\n",
      "written ./dataset/mrh_inc/column_nbsinINC.dat : 32.123 MB\n",
      "written ./dataset/mrh_inc/column_nbsinINCattri.dat : 32.123 MB\n",
      "written ./dataset/mrh_inc/column_nbsinINCgr.dat : 32.123 MB\n",
      "written ./dataset/mrh_inc/column_nbsinRC.dat : 32.123 MB\n",
      "written ./dataset/mrh_inc/column_nbsinVOL.dat : 32.123 MB\n",
      "Saved metadata to  ./dataset/mrh_inc/metadata.json\n"
     ]
    }
   ],
   "source": [
    "! python src/py/dataset.py ./config/dataset_mrh_inc.json"
   ]
  },
  {
   "cell_type": "code",
   "execution_count": 105,
   "metadata": {},
   "outputs": [
    {
     "name": "stdout",
     "output_type": "stream",
     "text": [
      "Processing congif file : ./config/dataset_mrh_vol.json\n",
      "Starting data importation from ./data/axaf_mrh_tot_freq_tot.csv\n",
      "Importing 8 420 945 lines.\n",
      "Progress: |██████████████████████████████████████████████████| 100.0% Complete in 26m26s\n",
      "written ./dataset/mrh_vol/features.dat : 1246.627 MB\n",
      "written ./dataset/mrh_vol/column_anpol.dat : 31.965 MB\n",
      "written ./dataset/mrh_vol/column_chargeVOLm.dat : 31.965 MB\n",
      "written ./dataset/mrh_vol/column_nbsinVOL.dat : 31.965 MB\n",
      "Saved metadata to  ./dataset/mrh_vol/metadata.json\n"
     ]
    }
   ],
   "source": [
    "! python src/py/dataset.py ./config/dataset_mrh_vol.json"
   ]
  }
 ],
 "metadata": {
  "kernelspec": {
   "display_name": "Python 3",
   "language": "python",
   "name": "python3"
  },
  "language_info": {
   "codemirror_mode": {
    "name": "ipython",
    "version": 3
   },
   "file_extension": ".py",
   "mimetype": "text/x-python",
   "name": "python",
   "nbconvert_exporter": "python",
   "pygments_lexer": "ipython3",
   "version": "3.6.5"
  }
 },
 "nbformat": 4,
 "nbformat_minor": 2
}
