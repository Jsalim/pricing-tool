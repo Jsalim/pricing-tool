{
 "cells": [
  {
   "cell_type": "code",
   "execution_count": 124,
   "metadata": {
    "collapsed": false,
    "scrolled": true
   },
   "outputs": [],
   "source": [
    "import contextlib\n",
    "from math import sqrt, log, log10, exp\n",
    "import mmap\n",
    "import os\n",
    "from struct import Struct\n",
    "\n",
    "\n",
    "import numpy as np\n",
    "import pandas as pd\n",
    "import matplotlib\n",
    "import matplotlib.pyplot as plt\n",
    "from sklearn import datasets, linear_model\n",
    "\n",
    "%matplotlib inline  \n",
    "\n",
    "mhr_dataset_filename = 'c:/data/axaf_mrh_tot_freq_tot.csv'"
   ]
  },
  {
   "cell_type": "code",
   "execution_count": 2,
   "metadata": {
    "collapsed": false,
    "scrolled": true
   },
   "outputs": [],
   "source": [
    "def moving_average(a, n=3) :\n",
    "    cum = np.cumsum(a, dtype=float)\n",
    "    ret = cum + 0\n",
    "    for i in range(len(ret)):\n",
    "        if i < n:\n",
    "            ret[i] = cum[i] / (i+1)\n",
    "        else:\n",
    "            ret[i] = (cum[i] - cum[i-n])/n\n",
    "    return ret\n",
    "\n",
    "def arrray_iterator(x, y):\n",
    "    size = x.shape[0]\n",
    "    i = 0\n",
    "    while True:\n",
    "        yield (x[i % size], y[i % size])\n",
    "        i += 1\n",
    "        \n",
    "def get_binary_format(p):\n",
    "    return Struct('<' + str(p + 1) + 'f')\n",
    "\n",
    "def save_dataset(x, y):\n",
    "    binary_io = get_binary_format(len(x[0]))\n",
    "    with open('data.ml', 'wb') as data_file:\n",
    "        for i in range(len(x)):\n",
    "            line = list(x[i]) + [y[i]]\n",
    "            data_file.write(binary_io.pack(*line))\n",
    "        \n",
    "def file_iterator(file_name, p, rolling=False, exposure=False):\n",
    "    binary_io = get_binary_format(p + 1 if exposure else 0)\n",
    "    with open(file_name, 'rb') as data_file:\n",
    "        file_size = os.fstat(data_file.fileno()).st_size\n",
    "        with contextlib.closing(mmap.mmap(data_file.fileno(), 0, access=mmap.ACCESS_READ)) as m:\n",
    "            i = 0\n",
    "            while True:\n",
    "                pt = i * binary_io.size\n",
    "                if not rolling and pt >= file_size:\n",
    "                    break\n",
    "                pt %= file_size\n",
    "                values = binary_io.unpack_from(m, pt)\n",
    "                if exposure:\n",
    "                    yield (np.array(values[:-2]), values[-2], values[-1])\n",
    "                else:\n",
    "                    yield (np.array(values[:-1]), values[-1])\n",
    "                i += 1"
   ]
  },
  {
   "cell_type": "code",
   "execution_count": 3,
   "metadata": {
    "collapsed": false,
    "scrolled": true
   },
   "outputs": [],
   "source": [
    "def fit_online(xy_iterator, fit_intercept=True, nb_adaptative_steps=1000, moving_average_size=1000, family=None,\n",
    "               p1=0, p2=0, max_iterations = 1000000, exposure=False, average_size=100000):\n",
    "    a = 0.2\n",
    "    alphas = np.zeros(nb_adaptative_steps + 1)\n",
    "    intercept = 0\n",
    "    p = len(next(xy_iterator)[0])\n",
    "    b = np.zeros(p)\n",
    "    errors = np.zeros(max_iterations)\n",
    "    exposure = 1\n",
    "    \n",
    "    for i in range(1, max_iterations):\n",
    "        if exposure:\n",
    "            x, y, exposure = next(xy_iterator)\n",
    "        else:\n",
    "            x, y = next(xy_iterator)\n",
    "        y_pred = np.inner(x, b) + intercept + log(exposure)\n",
    "        if family == 'poisson':\n",
    "            y_pred = exp(y_pred)\n",
    "        e = y_pred - y\n",
    "        e_regularized = e + np.sum(p1 * np.abs(b) + p2 * np.square(b))\n",
    "        if fit_intercept:\n",
    "            intercept -= a * e * 10\n",
    "        b -= (a * e) * x + p1 * np.sign(b) + p2 * b\n",
    "        errors[i-1] = abs(e)\n",
    "\n",
    "        if i <= nb_adaptative_steps:\n",
    "            y_pred = np.inner(x, b) + intercept + log(exposure)\n",
    "            if family == 'poisson':\n",
    "                y_pred = exp(y_pred)\n",
    "            e_updated = y_pred - y + np.sum(p1 * np.abs(b) + p2 * np.square(b))\n",
    "            if abs(e_updated) > abs(e_regularized):\n",
    "                a *= (1 - 0.999**min(i, 1000))\n",
    "            else:\n",
    "                a *= 1.1\n",
    "            alphas[i-1] = a\n",
    "            if i == nb_adaptative_steps:\n",
    "                a = np.average(alphas)\n",
    "                alphas[i] = a\n",
    "            \n",
    "        if i> 100000 and i % 10000 == 0:\n",
    "            log_trailing_error = np.average(errors[i-moving_average_size:i])\n",
    "            log_trailing_error_before = np.average(errors[i-max(i // 10, 10000):i-max(i // 10, 10000) + moving_average_size])\n",
    "            if log_trailing_error >= log_trailing_error_before:\n",
    "                break\n",
    "    \n",
    "    a = np.average(alphas)\n",
    "    nb_betas = max(i, average_size)\n",
    "    intercepts = 0\n",
    "    betas = np.zeros(p)\n",
    "    for j in range(nb_betas):\n",
    "        if exposure:\n",
    "            x, y, exposure = next(xy_iterator)\n",
    "        else:\n",
    "            x, y = next(xy_iterator)\n",
    "        y_pred = np.inner(x, b) + intercept + log(exposure)\n",
    "        if family == 'poisson':\n",
    "            y_pred = exp(y_pred)\n",
    "        e = y_pred - y\n",
    "        if fit_intercept:\n",
    "            intercept -= a * e\n",
    "        b -= (a * e) * x + p1 * np.sign(b) + p2 * b\n",
    "        intercepts += intercept\n",
    "        betas += b \n",
    "    intercepts /= nb_betas\n",
    "    betas  /= nb_betas\n",
    "    \n",
    "    return (i, intercepts, betas, alphas, errors[:i])"
   ]
  },
  {
   "cell_type": "code",
   "execution_count": null,
   "metadata": {
    "collapsed": false,
    "scrolled": true
   },
   "outputs": [],
   "source": [
    "p = 1000\n",
    "n = 100000\n",
    "\n",
    "beta = np.random.random(p) #* 2 - 1\n",
    "\n",
    "x = np.random.random(p * n).reshape((n, p,))\n",
    "y = np.dot(x, beta) + np.random.normal(size=n) / 1000 + 1\n",
    "\n",
    "save_dataset(x, y)"
   ]
  },
  {
   "cell_type": "code",
   "execution_count": null,
   "metadata": {
    "collapsed": false,
    "scrolled": false
   },
   "outputs": [],
   "source": [
    "#i, intercept, b, l, errors = fit_online(arrray_iterator(x, y), p1=0)\n",
    "i, intercept, b, l, errors = fit_online(file_iterator('data.ml', p,  rolling=True), p1=0, family='poisson')\n",
    "trailing_errors = moving_average(errors, 1000)\n",
    "\n",
    "print('minimum achieved at :', np.argmin(errors))\n",
    "print('lambda : ', l[-1])\n",
    "print('error : ', errors[-1])\n",
    "print(i, 'th iteration')\n",
    "print('intercept : ', intercept)\n",
    "print('Trailing error : ', trailing_errors[-1:])\n",
    "print(\"Difference of coefficient :\", np.sum(abs(beta - b)), abs((b-beta)[:5]))\n",
    "print('NB of non null coefficients : ', np.count_nonzero(np.greater(b, 0.01)))\n",
    "print(\"Mean squared error : %.2f\" % np.mean(np.square((np.inner(x, b) + intercept - y))))\n",
    "e = np.average(np.abs(np.inner(x, b) + intercept - y))\n",
    "print(\"Sum of log10 abs error : \", log10(e))\n",
    "\n",
    "fig = plt.figure()\n",
    "ax = fig.add_subplot(111)\n",
    "line, = ax.plot(range(len(errors)), np.log10(errors + 1e-20))\n",
    "ax = fig.add_subplot(111)\n",
    "line, = ax.plot(range(len(errors)), np.log10(trailing_errors + 1e-20), color='red')\n",
    "ax = fig.add_subplot(111)\n",
    "line, = ax.plot(range(len(errors)), np.ones(len(errors))*np.log10(e), color='green')\n",
    "plt.show()\n",
    "fig = plt.figure()\n",
    "ax = fig.add_subplot(111)\n",
    "line, = ax.plot(range(len(l)), np.log10(l + 1e-20))\n",
    "ax = fig.add_subplot(111)\n",
    "line, = ax.plot(range(len(l)), np.log10(trailing_errors + 1e-20)[:len(l)], color='red')\n",
    "ax = fig.add_subplot(111)\n",
    "line, = ax.plot(range(len(l)), np.ones(len(l))*np.log10(l[-1] + 1e-20), color='green')\n",
    "plt.show()"
   ]
  },
  {
   "cell_type": "code",
   "execution_count": null,
   "metadata": {
    "collapsed": false,
    "scrolled": true
   },
   "outputs": [],
   "source": [
    "regr = linear_model.SGDRegressor(fit_intercept=True)\n",
    "regr.fit(x, y)\n",
    "\n",
    "# The mean squared error\n",
    "print(\"Difference of coefficient :\", np.sum(abs(beta - regr.coef_)))\n",
    "x_hat = regr.predict(x)\n",
    "print(\"Mean squared error: %.2f\" % np.mean(np.square((x_hat - y))))\n",
    "print(\"Sum of log10 abs error : \", log10(np.average(np.abs(x_hat - y))))\n",
    "# Explained variance score: 1 is perfect prediction\n",
    "# print('Variance score: %.2f' % regr.score(x, y))"
   ]
  },
  {
   "cell_type": "code",
   "execution_count": 4,
   "metadata": {
    "collapsed": true,
    "scrolled": true
   },
   "outputs": [],
   "source": [
    "def csv_describe(filename):\n",
    "    with open(filename) as dataset:\n",
    "        nb_observations = 0\n",
    "        features = dataset.readline()[:-1].split(',')\n",
    "        print(features)\n",
    "        nb_features = len(features)\n",
    "        nb_values = [0] * nb_features\n",
    "        for line in dataset:\n",
    "            values = dataset.readline()[:-1].split(',')\n",
    "            nb_observations += 1\n",
    "            if nb_observations > 100000:\n",
    "                break\n",
    "        print(nb_features, nb_observations)"
   ]
  },
  {
   "cell_type": "code",
   "execution_count": 5,
   "metadata": {
    "collapsed": false,
    "scrolled": true
   },
   "outputs": [],
   "source": [
    "def score(filename, p, intercept, coeffs):\n",
    "    i = 0\n",
    "    e = 0\n",
    "    for x, y, exposure in file_iterator(filename, p, exposure=True):\n",
    "        e += abs(exp(np.inner(x, coeffs) + intercept + log(exposure)) - y)\n",
    "        i += 1\n",
    "    return e / i"
   ]
  },
  {
   "cell_type": "code",
   "execution_count": 11,
   "metadata": {
    "collapsed": true,
    "scrolled": true
   },
   "outputs": [],
   "source": [
    "def convert_to_binary(in_filename, out_filename, keep_features, normalization_ratio, target, exposure=None, max_lines=None):\n",
    "    with open(in_filename) as dataset:\n",
    "        features = dataset.readline()[:-1].split(',')\n",
    "        feature_index = [features.index(f) for f in keep_features]\n",
    "        target_index = features.index(target)\n",
    "        select_index = features.index('HAB_hab')\n",
    "        if exposure:\n",
    "            exposure_index = features.index(exposure)\n",
    "        binary_io = get_binary_format(len(keep_features) + 1 if exposure else 0)\n",
    "        skip_bad_line = 0\n",
    "        nb_lines = 0\n",
    "        with open(out_filename, 'wb') as data_file:\n",
    "            for i, line in enumerate(dataset):\n",
    "                values = dataset.readline()[:-1].split(',')\n",
    "                if values[select_index] != 'A':\n",
    "                    continue\n",
    "                data_file.write(binary_io.pack(*[(float(values[j]) / normalization_ratio[i])   for i, j in enumerate(feature_index)], float(values[target_index]), float(values[exposure_index])))\n",
    "                #skip_bad_line += 1\n",
    "                if max_lines is not None and i > max_lines:\n",
    "                    break\n",
    "                nb_lines = i + 1\n",
    "        print('nb_lines :', nb_lines)\n",
    "        print(\"bad lines skipped : \", skip_bad_line)"
   ]
  },
  {
   "cell_type": "code",
   "execution_count": 159,
   "metadata": {
    "collapsed": false,
    "scrolled": true
   },
   "outputs": [
    {
     "name": "stdout",
     "output_type": "stream",
     "text": [
      "nb_lines : 1000001\n",
      "bad lines skipped :  0\n"
     ]
    }
   ],
   "source": [
    "#csv_describe(mhr_dataset_filename)\n",
    "convert_to_binary(mhr_dataset_filename, 'dde_freq.ml', ['HAB_nb_pieces', 'CLI_age', 'POL_mtcapass'\n",
    "                                                        #, 'ddea_quant_freq_20'\n",
    "                                                       ], \n",
    "                  [15.0, 141.0, 619700.0, 20.0], 'nbsinDDE', exposure='anpol', max_lines=1000000)"
   ]
  },
  {
   "cell_type": "code",
   "execution_count": 162,
   "metadata": {
    "collapsed": false,
    "scrolled": true
   },
   "outputs": [
    {
     "name": "stdout",
     "output_type": "stream",
     "text": [
      "140000 -3.80486828094 [  1.54292028e-01   8.27357058e-04   4.84180854e-06] [1.1668315848259017, 1.0008276994126557, 1.0000048418202594]\n"
     ]
    }
   ],
   "source": [
    "p=3\n",
    "i, intercept, coeffs, l, errors = fit_online(file_iterator('dde_freq.ml', p, rolling=True, exposure=True), exposure=True, family='poisson',  \n",
    "                                             average_size=100000, p1=0, nb_adaptative_steps=1)\n",
    "print(i, intercept, np.array(coeffs) / np.array([15.0, 141.0, 619700.0]) , \n",
    "      list(np.exp(np.array(coeffs) / np.array([15.0, 141.0, 619700.0]))))"
   ]
  },
  {
   "cell_type": "code",
   "execution_count": 171,
   "metadata": {
    "collapsed": false
   },
   "outputs": [
    {
     "data": {
      "text/plain": [
       "0.07110366335019155"
      ]
     },
     "execution_count": 171,
     "metadata": {},
     "output_type": "execute_result"
    }
   ],
   "source": [
    "score('dde_freq.ml', p, intercept, coeffs)"
   ]
  },
  {
   "cell_type": "code",
   "execution_count": null,
   "metadata": {
    "collapsed": false
   },
   "outputs": [],
   "source": [
    "score('dde_freq.ml', 2, -5.030264, [0.224434, 0.102548])"
   ]
  },
  {
   "cell_type": "code",
   "execution_count": 163,
   "metadata": {
    "collapsed": false
   },
   "outputs": [],
   "source": [
    "def predict(filename, size, intercept, coeffs, family=None):\n",
    "    y_list = np.zeros(size)\n",
    "    pred = np.zeros(size)\n",
    "    for i, values in enumerate(file_iterator(filename, len(coeffs), exposure=True)):\n",
    "        x, y, exposure = values\n",
    "        if family == 'poisson':\n",
    "            pred[i] = exp(np.inner(coeffs, x) + intercept) * exposure\n",
    "        else:\n",
    "            pred[i] = np.inner(coeffs, x) + intercept\n",
    "        y_list[i] = y\n",
    "    return (y_list, pred)"
   ]
  },
  {
   "cell_type": "code",
   "execution_count": 164,
   "metadata": {
    "collapsed": true
   },
   "outputs": [],
   "source": [
    "def score_rmse(y, y_hat):\n",
    "    return np.sqrt(np.mean(np.square(y-y_hat)))"
   ]
  },
  {
   "cell_type": "code",
   "execution_count": 165,
   "metadata": {
    "collapsed": true
   },
   "outputs": [],
   "source": [
    "def deviance(y, y_hat):\n",
    "    return -2 * np.sum(y * np.log(y_hat) - y_hat  - y * np.log(y+1e-10) + y)"
   ]
  },
  {
   "cell_type": "code",
   "execution_count": 166,
   "metadata": {
    "collapsed": true
   },
   "outputs": [],
   "source": [
    "def score_edr(y, y_hat):\n",
    "    return 1 - deviance(y, y_hat)/deviance(y, np.mean(y) * np.ones(y.shape[0]))"
   ]
  },
  {
   "cell_type": "code",
   "execution_count": 167,
   "metadata": {
    "collapsed": false
   },
   "outputs": [
    {
     "data": {
      "text/plain": [
       "0.091538357499757694"
      ]
     },
     "execution_count": 167,
     "metadata": {},
     "output_type": "execute_result"
    }
   ],
   "source": [
    "score_edr(y, y_hat)"
   ]
  },
  {
   "cell_type": "code",
   "execution_count": 168,
   "metadata": {
    "collapsed": false
   },
   "outputs": [
    {
     "data": {
      "text/plain": [
       "123228.21613347976"
      ]
     },
     "execution_count": 168,
     "metadata": {},
     "output_type": "execute_result"
    }
   ],
   "source": [
    "deviance(y, y_hat)"
   ]
  },
  {
   "cell_type": "code",
   "execution_count": 169,
   "metadata": {
    "collapsed": false
   },
   "outputs": [
    {
     "data": {
      "text/plain": [
       "530016"
      ]
     },
     "execution_count": 169,
     "metadata": {},
     "output_type": "execute_result"
    }
   ],
   "source": [
    "np.count_nonzero(y_hat)"
   ]
  },
  {
   "cell_type": "code",
   "execution_count": 183,
   "metadata": {
    "collapsed": true
   },
   "outputs": [],
   "source": [
    "def gini(array):\n",
    "    \"\"\"Calculate the Gini coefficient of a numpy array.\"\"\"\n",
    "    n = array.shape[0] #number of array elements\n",
    "    array = np.sort(array) #values must be sorted\n",
    "    index = np.arsort(array) #index per array element \n",
    "    fig = plt.figure()\n",
    "    ax = fig.add_subplot(111)\n",
    "    line, = ax.plot(index, array)\n",
    "    #ax = fig.add_subplot(111)\n",
    "    #line, = ax.plot(range(len(errors)), np.log10(trailing_errors + 1e-20), color='red')\n",
    "    #ax = fig.add_subplot(111)\n",
    "    #line, = ax.plot(range(len(errors)), np.ones(len(errors))*np.log10(e), color='green')\n",
    "    plt.show()\n",
    "    return 2 * np.sum(np.inner(index, array)) / (n *  np.sum(array)) - (n + 1) / n\n",
    "    #return (np.sum((2 * index - n  - 1) * array)) / (n * np.sum(array)) #Gini coefficient"
   ]
  },
  {
   "cell_type": "code",
   "execution_count": 42,
   "metadata": {
    "collapsed": true
   },
   "outputs": [],
   "source": [
    "def area_lorentz_fast(y, y_pred, weight=None):\n",
    "    '''\n",
    "    Reproduces the weighted gini of emblem\n",
    "    '''\n",
    "    n_samples = y.shape[0]\n",
    "\n",
    "    if weight is None:\n",
    "        weight = np.repeat(1. / n_samples, n_samples)\n",
    "\n",
    "    # Id of each column\n",
    "    obs_col, pred_col, w_col, rank_col = (0, 1, 2, 3)\n",
    "\n",
    "    # Order data following prediction\n",
    "    ordered_data = np.array([[obs, pred, w, 0.] for obs, pred, w in zip(y, y_pred, weight)])\n",
    "    pred_order = np.argsort(y_pred)[::-1]\n",
    "    ordered_data = ordered_data[pred_order, :]\n",
    "\n",
    "    # Compute the rank\n",
    "    ordered_data[:, rank_col] = np.cumsum(ordered_data[:, w_col]) - 1. / 2 * ordered_data[:, w_col] # \\\n",
    "                                #+ 1. / 2 * np.ones(n_samples)\n",
    "\n",
    "    total_weight = np.sum(ordered_data[:, w_col])\n",
    "\n",
    "    obs_sum = np.dot(ordered_data[:, w_col], ordered_data[:, obs_col])\n",
    "\n",
    "    rank_obs_sum = np.sum([rank * obs * w for obs, pred, w, rank in ordered_data])\n",
    "\n",
    "    gini = 1  - (2 / (total_weight * obs_sum)) * rank_obs_sum #+ 1 / total_weight\n",
    "    return gini\n",
    "    "
   ]
  },
  {
   "cell_type": "code",
   "execution_count": 184,
   "metadata": {
    "collapsed": false
   },
   "outputs": [],
   "source": [
    "y, y_hat = predict('dde_freq.ml', 530016, intercept, coeffs, family='poisson')"
   ]
  },
  {
   "cell_type": "code",
   "execution_count": 173,
   "metadata": {
    "collapsed": false
   },
   "outputs": [
    {
     "data": {
      "text/plain": [
       "0.2025330364271766"
      ]
     },
     "execution_count": 173,
     "metadata": {},
     "output_type": "execute_result"
    }
   ],
   "source": [
    "score_rmse(y, y_hat)"
   ]
  },
  {
   "cell_type": "code",
   "execution_count": 185,
   "metadata": {
    "collapsed": false
   },
   "outputs": [
    {
     "data": {
      "image/png": "[encoded data removed]",
      "text/plain": [
       "<matplotlib.figure.Figure at 0xc94b7b8>"
      ]
     },
     "metadata": {},
     "output_type": "display_data"
    },
    {
     "data": {
      "text/plain": [
       "0.24729335514872686"
      ]
     },
     "execution_count": 185,
     "metadata": {},
     "output_type": "execute_result"
    }
   ],
   "source": [
    "score_gini(y_hat)"
   ]
  },
  {
   "cell_type": "code",
   "execution_count": 175,
   "metadata": {
    "collapsed": false
   },
   "outputs": [
    {
     "data": {
      "text/plain": [
       "0.29259409547108772"
      ]
     },
     "execution_count": 175,
     "metadata": {},
     "output_type": "execute_result"
    }
   ],
   "source": [
    "area_lorentz_fast(y, y_hat, )"
   ]
  },
  {
   "cell_type": "code",
   "execution_count": 182,
   "metadata": {
    "collapsed": false
   },
   "outputs": [
    {
     "data": {
      "image/png": "[encoded data removed]",
      "text/plain": [
       "<matplotlib.figure.Figure at 0xf5b37b8>"
      ]
     },
     "metadata": {},
     "output_type": "display_data"
    }
   ],
   "source": [
    "def mean_of_percentile(x, y, n):\n",
    "    size = x.shape[0]\n",
    "    xr = np.zeros(n)\n",
    "    yr = np.zeros(n)\n",
    "    quantile_size = size / n\n",
    "    x_sorted = np.argsort(x)\n",
    "    xcs = np.cumsum(x[x_sorted])\n",
    "    ycs = np.cumsum(y[x_sorted])\n",
    "    for i in range(n):\n",
    "        xr[i] = (xcs[int((i + 1) * quantile_size - 1)] - xcs[int(i * quantile_size)]) / quantile_size\n",
    "        yr[i] = (ycs[int((i + 1) * quantile_size - 1)] - ycs[int(i * quantile_size)]) / quantile_size\n",
    "    return (xr, yr)\n",
    "        \n",
    "q = 20\n",
    "xr, yr = mean_of_percentile(y_hat, y, q)\n",
    "fig = plt.figure()\n",
    "ax = fig.add_subplot(111)\n",
    "line, = ax.plot(range(q), xr)\n",
    "ax = fig.add_subplot(111)\n",
    "line, = ax.plot(range(q), yr, color='red')\n",
    "plt.show()"
   ]
  },
  {
   "cell_type": "code",
   "execution_count": null,
   "metadata": {
    "collapsed": false,
    "scrolled": false
   },
   "outputs": [],
   "source": [
    "trailing_errors = moving_average(errors, 1000)\n",
    "\n",
    "print('minimum achieved at :', np.argmin(errors))\n",
    "print('lambda : ', l[-1])\n",
    "print('error : ', errors[-1])\n",
    "print(i, 'th iteration')\n",
    "print('intercept : ', intercept)\n",
    "print('Trailing error : ', trailing_errors[-1:])\n",
    "print('NB of non null coefficients : ', np.count_nonzero(np.greater(coeffs, 0.01)))\n",
    "e = score('dde_freq.ml', p, intercept, coeffs)\n",
    "print(\"Sum of log10 abs error : \", log10(e))\n",
    "\n",
    "fig = plt.figure()\n",
    "ax = fig.add_subplot(111)\n",
    "line, = ax.plot(range(len(errors)), np.log10(errors + 1e-20))\n",
    "ax = fig.add_subplot(111)\n",
    "line, = ax.plot(range(len(errors)), np.log10(trailing_errors + 1e-20), color='red')\n",
    "ax = fig.add_subplot(111)\n",
    "line, = ax.plot(range(len(errors)), np.ones(len(errors))*np.log10(e), color='green')\n",
    "plt.show()\n",
    "fig = plt.figure()\n",
    "ax = fig.add_subplot(111)\n",
    "line, = ax.plot(range(len(l)), np.log10(l + 1e-20))\n",
    "ax = fig.add_subplot(111)\n",
    "line, = ax.plot(range(len(l)), np.log10(trailing_errors + 1e-20)[:len(l)], color='red')\n",
    "ax = fig.add_subplot(111)\n",
    "line, = ax.plot(range(len(l)), np.ones(len(l))*np.log10(l[-1] + 1e-20), color='green')\n",
    "plt.show()"
   ]
  },
  {
   "cell_type": "code",
   "execution_count": null,
   "metadata": {
    "collapsed": false,
    "scrolled": true
   },
   "outputs": [],
   "source": [
    "list(map(exp, [-5.030264, 0.224434, 0.102548]))"
   ]
  },
  {
   "cell_type": "code",
   "execution_count": null,
   "metadata": {
    "collapsed": false
   },
   "outputs": [],
   "source": [
    "list(map(exp, [-4.94434250637, 0.21366719,  0.0945649]))"
   ]
  },
  {
   "cell_type": "code",
   "execution_count": null,
   "metadata": {
    "collapsed": false
   },
   "outputs": [],
   "source": [
    "exp(-5.030264 + 3 * 0.224434 +  5 * 0.102548)"
   ]
  },
  {
   "cell_type": "code",
   "execution_count": null,
   "metadata": {
    "collapsed": false
   },
   "outputs": [],
   "source": [
    "exp(-4.94434250637 + 3 * 0.21366719 + 8 * 0.0945649)"
   ]
  },
  {
   "cell_type": "code",
   "execution_count": 157,
   "metadata": {
    "collapsed": false
   },
   "outputs": [
    {
     "name": "stdout",
     "output_type": "stream",
     "text": [
      "0 EXT_dens_pop float64 21\n",
      "1 EXT_part_respr_1p float64 12\n",
      "2 EXT_part_respr_5p float64 21\n",
      "3 EXT_part_secocc float64 13\n",
      "4 EXT_part_surf_inf40 float64 17\n",
      "5 EXT_part_surf_plus100 float64 21\n",
      "6 EXT_part_rev_15K29k float64 21\n",
      "7 EXT_part_men_lochlm float64 14\n",
      "8 EXT_part_men_pror float64 21\n",
      "9 EXT_part_pop_18a24a float64 12\n",
      "10 EXT_part_pop_65a79a float64 16\n",
      "11 EXT_part_respr_chauf_aut float64 17\n",
      "12 EXT_part_respr_chauf_col float64 15\n",
      "13 EXT_part_respr_chauf_ind float64 21\n",
      "14 EXT_part_respr_chauf_indelec float64 21\n",
      "15 EXT_part_repsr_sdb1 float64 9\n",
      "16 EXT_part_repsr_sdb2 float64 9\n",
      "17 EXT_part_lgt_co float64 21\n",
      "18 EXT_part_lgt_vac float64 14\n",
      "19 EXT_part_pop_15dipsup float64 18\n",
      "20 EXT_part_pop_15ssdip float64 20\n",
      "21 EXT_gdeville object 11\n",
      "22 AUTV_prix_sra_max object 7\n",
      "23 AUTV_prix_sra_min object 7\n",
      "24 AUTV_rm object 2\n",
      "25 AUTV_segment_max object 7\n",
      "26 AUTV_segment_min object 7\n",
      "27 CLI_banque object 25\n",
      "28 POL_cdopmrh object 7\n",
      "29 POL_fract int64 3\n",
      "30 POL_cdregion int64 6\n",
      "31 HAB_cdresid object 2\n",
      "32 CLI_sex object 3\n",
      "33 POL_distrib int64 8\n",
      "34 AUTV_energie_es int64 3\n",
      "35 AUTV_energie_go int64 4\n",
      "36 AUTV_k8000_n int64 2\n",
      "37 AUTV_k8000_o int64 2\n",
      "38 AUTV_prix_sra_ad int64 2\n",
      "39 AUTV_prix_sra_ef int64 2\n",
      "40 AUTV_prix_sra_gi int64 2\n",
      "41 AUTV_prix_sra_jl int64 2\n",
      "42 AUTV_prix_sra_mn int64 2\n",
      "43 AUTV_prix_sra_supo int64 2\n",
      "44 AUTV_segment_0 int64 2\n",
      "45 AUTV_segment_a int64 2\n",
      "46 AUTV_segment_b int64 2\n",
      "47 AUTV_segment_h int64 2\n",
      "48 AUTV_segment_m1 int64 2\n",
      "49 AUTV_segment_m2 int64 2\n",
      "50 AUTV_nb_rc_12 int64 2\n",
      "51 AUTV_nb_rc_34 int64 3\n",
      "52 AUTV_nb_rc_56 int64 2\n",
      "53 AUTV_nb_rc_78 int64 2\n",
      "54 AUTV_nb_rc_sup9 int64 2\n",
      "55 AUTV_nb_vol_ab int64 2\n",
      "56 AUTV_nb_vol_cd int64 2\n",
      "57 AUTV_nb_vol_ef int64 2\n",
      "58 AUTV_nb_vol_gh int64 2\n",
      "59 AUTV_nb_vol_ij int64 2\n",
      "60 AUTV_nb_vol_supk int64 2\n",
      "61 HAB_inser object 2\n",
      "62 POL_mtcapass int64 4726\n",
      "63 CLI_indice int64 6\n",
      "64 AUTA_tot1a int64 7\n",
      "65 AUTA_tot2a int64 10\n",
      "66 AUTA_tot3a int64 11\n",
      "67 AUTA_tot4a int64 12\n",
      "68 POL_tx_objv int64 6\n",
      "69 POL_tr_capass object 24\n",
      "70 CLI_age int64 97\n",
      "71 annee int64 5\n",
      "72 anpol float64 347\n",
      "73 CLI_nb_contrat int64 38\n",
      "74 CLI_nb_contrat_atr int64 16\n",
      "75 CLI_nb_contrat_aup int64 10\n",
      "76 CLI_nb_contrat_bqe int64 13\n",
      "77 CLI_nb_contrat_epa int64 10\n",
      "78 CLI_nb_contrat_hab int64 30\n",
      "79 CLI_nb_contrat_mot int64 6\n",
      "80 CLI_nb_contrat_mrp int64 7\n",
      "81 CLI_nb_contrat_pf int64 3\n",
      "82 CLI_nb_contrat_pju int64 3\n",
      "83 CLI_nb_contrat_prv int64 5\n",
      "84 CLI_nb_contrat_san int64 4\n",
      "85 HAB_nb_pieces int64 14\n",
      "86 CLI_nb_enfant int64 2\n",
      "87 POL_fr object 2\n",
      "88 AUTA_b50_n int64 2\n",
      "89 AUTA_b50_o int64 2\n",
      "90 AUTA_rm_50 int64 2\n",
      "91 AUTA_rm_5060 int64 2\n",
      "92 AUTA_rm_6070 int64 2\n",
      "93 AUTA_rm_7090 int64 2\n",
      "94 AUTA_rm_inf50 int64 1\n",
      "95 AUTA_rm_sup90 int64 2\n",
      "96 HAB_surf_dep object 3\n",
      "97 HAB_inhab object 2\n",
      "98 AUTV_nb_rc object 2\n",
      "99 AUTV_nb_vol object 7\n",
      "100 POL_pac object 2\n",
      "101 POL_paj object 2\n",
      "102 POL_pan object 2\n",
      "103 POL_pap object 2\n",
      "104 POL_par object 2\n",
      "105 CLI_prod_entree object 10\n",
      "106 HAB_qual object 2\n",
      "107 POL_ran object 2\n",
      "108 CLI_top_atr int64 2\n",
      "109 CLI_top_aup int64 2\n",
      "110 CLI_top_bqe int64 2\n",
      "111 CLI_top_epa int64 2\n",
      "112 CLI_top_hab int64 2\n",
      "113 CLI_top_mot int64 2\n",
      "114 CLI_top_mrp int64 2\n",
      "115 CLI_top_pf int64 2\n",
      "116 CLI_top_pju int64 2\n",
      "117 CLI_top_prv int64 2\n",
      "118 CLI_top_san int64 2\n",
      "119 HAB_top_jardin object 2\n",
      "120 CLI_tr_age object 9\n",
      "121 CLI_tr_ancli object 9\n",
      "122 CLI_tr_mtvi object 10\n",
      "123 CLI_tr_pm object 10\n",
      "124 HAB_habit_X_qual_X_inhab object 14\n",
      "125 POL_mtobv object 22\n",
      "126 POL_tr_tx_objv object 6\n",
      "127 CLI_cspf int64 12\n",
      "128 REG_zoneAxa_a int64 12\n",
      "129 REG_zoneAxa_m int64 17\n",
      "130 nbsinDDE int64 4\n",
      "131 nbsinVOL int64 3\n",
      "132 nbsinRC int64 3\n",
      "133 nbsinBDG int64 3\n",
      "134 nbsinDELEC int64 2\n",
      "135 nbsinCATNAT int64 2\n",
      "136 nbsinCATNAT2 int64 2\n",
      "137 nbsinCLIM int64 3\n",
      "138 chargeDDEm float64 280\n",
      "139 chargeVOLm float64 82\n",
      "140 chargeRCm float64 69\n",
      "141 chargeBDGm float64 62\n",
      "142 chargeDELECm float64 42\n",
      "143 chargeCATNATm float64 6\n",
      "144 chargeCLIMm float64 52\n",
      "145 top_clim10M int64 2\n",
      "146 top_forfaitBDG int64 2\n",
      "147 top_forfaitCLIM int64 2\n",
      "148 top_forfaitDDE int64 3\n",
      "149 top_forfaitDELEC int64 1\n",
      "150 top_forfaitINC int64 2\n",
      "151 top_forfaitRC int64 2\n",
      "152 top_forfaitVOL int64 2\n",
      "153 top_sin_extreme int64 1\n",
      "154 chargeINCgr int64 3\n",
      "155 nbsinINCgr int64 2\n",
      "156 chargeINCattri float64 38\n",
      "157 nbsinINCattri int64 3\n",
      "158 nbsinINC int64 3\n",
      "159 Random int64 10\n",
      "160 HAB_anclg object 4\n",
      "161 CLI_sit_fam2 object 4\n",
      "162 AUTA_rm object 6\n",
      "163 HAB_hab object 2\n",
      "164 HAB_habit object 3\n",
      "165 POL_delec int64 2\n",
      "166 anpolDEL float64 263\n",
      "167 POL_vol int64 2\n",
      "168 anpolVOL float64 348\n",
      "169 CLI_tr_age_X_CSPf object 71\n",
      "170 ddea_quant_freq_20 int64 21\n",
      "171 ddea_quant_cm_10 int64 11\n",
      "172 ddem_quant_freq_20 int64 21\n",
      "173 ddem_quant_cm_20 int64 21\n",
      "174 clim_quant_pp_20 int64 21\n",
      "175 vol_quant_freq_20 int64 21\n",
      "176 vol_quant_cm_20 int64 21\n",
      "177 bdg_quant_freq_20 int64 21\n",
      "178 bdg_quant_cm_20 int64 21\n",
      "179 catnat_quant_pp_10 int64 11\n",
      "180 fire_quant_freq_20 int64 21\n",
      "181 HAB_habit_nbpieces object 29\n",
      "182 HAB_qual_inhab object 4\n",
      "183 EXT_superficie_m2_num float64 2775\n",
      "184 newid object 3114\n",
      "185 POL_distrib_code object 3\n",
      "186 Zone_inc_cm_iris int64 8\n",
      "187 Zone_inc_freq_iris int64 21\n",
      "188 zone_vol_cm_insee int64 16\n",
      "189 zone_vol_freq_insee int64 21\n"
     ]
    }
   ],
   "source": [
    "df = pd.read_csv(mhr_dataset_filename, nrows=10000)\n",
    "\n",
    "for i, name in enumerate(list(df)):\n",
    "    print(i, name, df.dtypes[i], len(df[name].unique()))"
   ]
  },
  {
   "cell_type": "code",
   "execution_count": 136,
   "metadata": {
    "collapsed": false
   },
   "outputs": [
    {
     "data": {
      "text/plain": [
       "1     18\n",
       "12     2\n",
       "Name: POL_fract, dtype: int64"
      ]
     },
     "execution_count": 136,
     "metadata": {},
     "output_type": "execute_result"
    }
   ],
   "source": [
    "df.POL_fract.value_counts()"
   ]
  },
  {
   "cell_type": "code",
   "execution_count": 186,
   "metadata": {
    "collapsed": false
   },
   "outputs": [
    {
     "name": "stdout",
     "output_type": "stream",
     "text": [
      "ok\n"
     ]
    }
   ],
   "source": [
    "import test"
   ]
  },
  {
   "cell_type": "code",
   "execution_count": null,
   "metadata": {
    "collapsed": true
   },
   "outputs": [],
   "source": []
  }
 ],
 "metadata": {
  "kernelspec": {
   "display_name": "Python 3",
   "language": "python",
   "name": "python3"
  },
  "language_info": {
   "codemirror_mode": {
    "name": "ipython",
    "version": 3
   },
   "file_extension": ".py",
   "mimetype": "text/x-python",
   "name": "python",
   "nbconvert_exporter": "python",
   "pygments_lexer": "ipython3",
   "version": "3.5.1"
  }
 },
 "nbformat": 4,
 "nbformat_minor": 0
}
