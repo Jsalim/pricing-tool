{
 "cells": [
  {
   "cell_type": "code",
   "execution_count": 6,
   "metadata": {},
   "outputs": [],
   "source": [
    "from time import time\n",
    "\n",
    "import numpy as np\n",
    "import pandas as pd\n",
    "import pyopencl as cl\n",
    "\n",
    "import src.py.config as config\n",
    "import src.py.dataset as dataset"
   ]
  },
  {
   "cell_type": "code",
   "execution_count": 2,
   "metadata": {},
   "outputs": [],
   "source": [
    "%load_ext pyopencl.ipython_ext"
   ]
  },
  {
   "cell_type": "code",
   "execution_count": 418,
   "metadata": {},
   "outputs": [
    {
     "name": "stdout",
     "output_type": "stream",
     "text": [
      "Choose platform:\n",
      "[0] <pyopencl.Platform 'Apple' at 0x7fff0000>\n",
      "Choice [0]:0\n",
      "Choose device(s):\n",
      "[0] <pyopencl.Device 'Intel(R) Core(TM) i7-4870HQ CPU @ 2.50GHz' on 'Apple' at 0xffffffff>\n",
      "[1] <pyopencl.Device 'Iris Pro' on 'Apple' at 0x1024500>\n",
      "[2] <pyopencl.Device 'AMD Radeon R9 M370X Compute Engine' on 'Apple' at 0x1021c00>\n",
      "Choice, comma-separated [0]:3\n",
      "Set the environment variable PYOPENCL_CTX='0:3' to avoid being asked again.\n"
     ]
    }
   ],
   "source": [
    "ctx = cl.create_some_context(interactive=True)\n",
    "queue = cl.CommandQueue(ctx, properties=cl.command_queue_properties.PROFILING_ENABLE)"
   ]
  },
  {
   "cell_type": "code",
   "execution_count": 419,
   "metadata": {},
   "outputs": [
    {
     "name": "stdout",
     "output_type": "stream",
     "text": [
      "Device name: AMD Radeon R9 M370X Compute Engine\n",
      "Device type: GPU\n",
      "Device memory:  2048 MB\n",
      "Device max clock speed: 80 MHz\n",
      "Device compute units: 10\n"
     ]
    }
   ],
   "source": [
    "for device in ctx.get_info(cl.context_info.DEVICES):\n",
    "  print(\"Device name:\", device.name)\n",
    "  print(\"Device type:\", cl.device_type.to_string(device.type))\n",
    "  print(\"Device memory: \", device.global_mem_size//1024//1024, 'MB')\n",
    "  print(\"Device max clock speed:\", device.max_clock_frequency, 'MHz')\n",
    "  print(\"Device compute units:\", device.max_compute_units)"
   ]
  },
  {
   "cell_type": "code",
   "execution_count": 420,
   "metadata": {},
   "outputs": [
    {
     "name": "stderr",
     "output_type": "stream",
     "text": [
      "/Users/Axa/git/pricing-tool/venv/lib/python3.6/site-packages/pyopencl/cffi_cl.py:1521: CompilerWarning: Non-empty compiler output encountered. Set the environment variable PYOPENCL_COMPILER_OUTPUT=1 to see more.\n",
      "  \"to see more.\", CompilerWarning)\n"
     ]
    }
   ],
   "source": [
    "%%cl_kernel -o \"-cl-fast-relaxed-math\"\n",
    "\n",
    "__kernel\n",
    "void mdot(__global const uchar* a, \n",
    "          __global const float* b, \n",
    "          __global float* c,\n",
    "          __global long* offsets,\n",
    "          const int n, \n",
    "          const int p, \n",
    "          const int m,\n",
    "          __local float* temp)\n",
    "{\n",
    "    int glid = get_global_id(0); \n",
    "    int pos = glid;\n",
    "    long offset = offsets[glid];\n",
    "    if(glid == 0){\n",
    "        for(int i = 0; i < m; i++){\n",
    "            temp[i] = 0;\n",
    "        }\n",
    "    }\n",
    "    for(int i = 0; i < n; i++)\n",
    "    {\n",
    "        temp[i%50 /*+ a[pos]*/] += b[i];\n",
    "        pos += p;\n",
    "    }\n",
    "    if(glid == 0){\n",
    "        for(int i = 0; i < m; i++){\n",
    "            c[i] = temp[i];\n",
    "        }\n",
    "    }\n",
    "}"
   ]
  },
  {
   "cell_type": "code",
   "execution_count": 421,
   "metadata": {},
   "outputs": [],
   "source": [
    "%%cl_kernel -o \"-cl-fast-relaxed-math\"\n",
    "\n",
    "__kernel\n",
    "void mdot2(__global const uchar* a, \n",
    "          __global const float* b, \n",
    "          __global float* c,\n",
    "          __global int* columns,\n",
    "          __global uchar* values,\n",
    "          const int n, \n",
    "          const int p)\n",
    "{\n",
    "    int glid = get_global_id(0); \n",
    "    int pos = columns[glid];\n",
    "    uchar v = values[glid];\n",
    "    float r = 0;\n",
    "    for(int i = 0; i < n; i++)\n",
    "    {\n",
    "        r += (a[pos] == v) ? b[i] : 0;\n",
    "        pos += p;\n",
    "    }\n",
    "    c[glid] = r;\n",
    "}"
   ]
  },
  {
   "cell_type": "code",
   "execution_count": 422,
   "metadata": {},
   "outputs": [
    {
     "data": {
      "text/plain": [
       "(4459542, 156, 1813)"
      ]
     },
     "execution_count": 422,
     "metadata": {},
     "output_type": "execute_result"
    }
   ],
   "source": [
    "cfg = config.Config('./config/model_nbsin_ddea.cfg')\n",
    "label = cfg.label\n",
    "path = cfg.get_result_path()\n",
    "ds = dataset.Dataset(cfg.get_dataset_filename())\n",
    "ds.load()\n",
    "includes = set(ds.features) - set(cfg.excludes)\n",
    "includes = [ds.get_feature_index(i) for i in includes]\n",
    "includes.sort()\n",
    "n = ds.size\n",
    "p = ds.count_features()\n",
    "m = ds.count_modalities()\n",
    "n, p, m"
   ]
  },
  {
   "cell_type": "code",
   "execution_count": 423,
   "metadata": {},
   "outputs": [],
   "source": [
    "X = dataset.load_data('./dataset/mrh_ddea/features.dat', 'uint8', (n, p))\n",
    "Xt = dataset.load_data('./dataset/test/mt.dat', 'uint8', (p, n))\n",
    "exposure = dataset.load_data('./dataset/mrh_ddea/column_anpol.dat', 'float32', (n,))\n",
    "Y = dataset.load_data('./dataset/mrh_ddea/column_nbsinDDE.dat', 'float32', (n,))\n",
    "\n",
    "columns = np.zeros(m, 'int32')\n",
    "values = np.zeros(m, 'uint8')\n",
    "\n",
    "k = 0\n",
    "for i in range(p):\n",
    "    f = ds.features[i]\n",
    "    for j in range(len(ds.get_modalities(f))):\n",
    "        columns[k] = i\n",
    "        values[k] = j\n",
    "        k += 1\n",
    "\n",
    "R = np.zeros(m).astype(np.float32)\n",
    "\n",
    "X_buf = cl.Buffer(ctx, cl.mem_flags.READ_ONLY | cl.mem_flags.COPY_HOST_PTR, hostbuf=X)\n",
    "Y_buf = cl.Buffer(ctx, cl.mem_flags.READ_ONLY | cl.mem_flags.COPY_HOST_PTR, hostbuf=Y)\n",
    "R_buf = cl.Buffer(ctx, cl.mem_flags.WRITE_ONLY, R.nbytes)\n",
    "Offset_buf = cl.Buffer(ctx, cl.mem_flags.READ_ONLY | cl.mem_flags.COPY_HOST_PTR, hostbuf=ds.get_offsets())\n",
    "Columns_buf = cl.Buffer(ctx, cl.mem_flags.READ_ONLY | cl.mem_flags.COPY_HOST_PTR, hostbuf=columns)\n",
    "Values_buf = cl.Buffer(ctx, cl.mem_flags.READ_ONLY | cl.mem_flags.COPY_HOST_PTR, hostbuf=values)\n",
    "Temp_buf = cl.LocalMemory(np.zeros(m).nbytes)\n",
    "\n",
    "mdot.set_args(X_buf, Y_buf, R_buf, Offset_buf, np.int32(n), np.int32(p), np.int32(m), Temp_buf)\n",
    "mdot2.set_args(X_buf, Y_buf, R_buf, Columns_buf, Values_buf, np.int32(n), np.int32(p))"
   ]
  },
  {
   "cell_type": "code",
   "execution_count": 424,
   "metadata": {},
   "outputs": [
    {
     "name": "stderr",
     "output_type": "stream",
     "text": [
      "/Users/Axa/git/pricing-tool/venv/lib/python3.6/site-packages/ipykernel_launcher.py:5: DeprecationWarning: 'enqueue_read_buffer' has been deprecated in version 2011.1. Please use enqueue_copy() instead.\n",
      "  \"\"\"\n"
     ]
    },
    {
     "name": "stdout",
     "output_type": "stream",
     "text": [
      "GPU Kernel Time: 3.738766972 s\n",
      "GPU Time: 3.7440741062164307 s\n",
      "0.17304958048330388 GFlops\n"
     ]
    }
   ],
   "source": [
    "ev = cl.enqueue_nd_range_kernel(queue, mdot2, (p,), None)\n",
    "ev.wait()\n",
    "gpu_start_time = time()  # Get the GPU start time\n",
    "ev = cl.enqueue_nd_range_kernel(queue, mdot2, (m,), None)\n",
    "cl.enqueue_read_buffer(queue, R_buf, R)\n",
    "queue.finish()\n",
    "gpu_end_time = time()  # Get the GPU end time\n",
    "elapsed = 1e-9 * (ev.profile.end - ev.profile.start)  # Calculate the time it took to execute the kernel\n",
    "print(\"GPU Kernel Time: {0} s\".format(elapsed))  # Print the time it took to execute the kernel\n",
    "print(\"GPU Time: {0} s\".format(gpu_end_time - gpu_start_time))  # Print the time the GPU program took, including \n",
    "                                                                #both memory copies\n",
    "print((n * p)/(gpu_end_time - gpu_start_time) / (1024 * 1024 * 1024), \"GFlops\")"
   ]
  },
  {
   "cell_type": "code",
   "execution_count": 425,
   "metadata": {},
   "outputs": [
    {
     "name": "stdout",
     "output_type": "stream",
     "text": [
      "0 POL_mtcapass 0.0\n",
      "1 EXT_superficie_m2_num 0.0\n",
      "2 EXT_dens_pop 0.0\n",
      "3 EXT_part_respr_1p 0.0\n",
      "4 EXT_part_respr_5p 0.0\n",
      "5 EXT_part_secocc 0.0\n",
      "6 EXT_part_surf_inf40 0.0\n",
      "7 EXT_part_surf_plus100 0.0\n",
      "8 EXT_part_rev_15K29k 0.0\n",
      "9 EXT_part_men_lochlm 0.0\n",
      "10 EXT_part_men_pror 0.0\n",
      "11 EXT_part_pop_18a24a 0.0\n",
      "12 EXT_part_pop_65a79a 0.0\n",
      "13 EXT_part_respr_chauf_aut 0.0\n",
      "14 EXT_part_respr_chauf_col 0.0\n",
      "15 EXT_part_respr_chauf_ind 0.0\n",
      "16 EXT_part_respr_chauf_indelec 0.0\n",
      "17 EXT_part_repsr_sdb1 0.0\n",
      "18 EXT_part_repsr_sdb2 0.0\n",
      "19 EXT_part_lgt_co 0.0\n",
      "20 EXT_part_lgt_vac 0.0\n",
      "21 EXT_part_pop_15dipsup 0.0\n",
      "22 EXT_part_pop_15ssdip 0.0\n",
      "23 EXT_gdeville 0.0\n",
      "24 AUTV_prix_sra_max 0.0\n",
      "25 AUTV_prix_sra_min 0.0\n",
      "26 AUTV_rm 0.0\n",
      "27 AUTV_segment_max 0.0\n",
      "28 AUTV_segment_min 0.0\n",
      "29 CLI_banque 0.0\n",
      "30 POL_cdopmrh 0.0\n",
      "31 POL_fract 0.0\n",
      "32 POL_cdregion 0.0\n",
      "33 HAB_cdresid 0.0\n",
      "34 CLI_sex 0.0\n",
      "35 POL_distrib 0.0\n",
      "36 AUTV_energie_es 0.0\n",
      "37 AUTV_energie_go 0.0\n",
      "38 AUTV_k8000_n 0.0\n",
      "39 AUTV_k8000_o 0.0\n",
      "40 AUTV_prix_sra_ad 0.0\n",
      "41 AUTV_prix_sra_ef 0.0\n",
      "42 AUTV_prix_sra_gi 0.0\n",
      "43 AUTV_prix_sra_jl 0.0\n",
      "44 AUTV_prix_sra_mn 0.0\n",
      "45 AUTV_prix_sra_supo 0.0\n",
      "46 AUTV_segment_0 0.0\n",
      "47 AUTV_segment_a 0.0\n",
      "48 AUTV_segment_b 0.0\n",
      "49 AUTV_segment_h 0.0\n",
      "50 AUTV_segment_m1 0.0\n",
      "51 AUTV_segment_m2 0.0\n",
      "52 AUTV_nb_rc_12 0.0\n",
      "53 AUTV_nb_rc_34 0.0\n",
      "54 AUTV_nb_rc_56 0.0\n",
      "55 AUTV_nb_rc_78 0.0\n",
      "56 AUTV_nb_rc_sup9 0.0\n",
      "57 AUTV_nb_vol_ab 0.0\n",
      "58 AUTV_nb_vol_cd 0.0\n",
      "59 AUTV_nb_vol_ef 0.0\n",
      "60 AUTV_nb_vol_gh 0.0\n",
      "61 AUTV_nb_vol_ij 0.0\n",
      "62 AUTV_nb_vol_supk 0.0\n",
      "63 HAB_inser 0.0\n",
      "64 CLI_indice 0.0\n",
      "65 AUTA_tot1a 0.0\n",
      "66 AUTA_tot2a 0.0\n",
      "67 AUTA_tot3a 0.0\n",
      "68 AUTA_tot4a 0.0\n",
      "69 POL_tx_objv 0.0\n",
      "70 POL_tr_capass 0.0\n",
      "71 CLI_age 0.0\n",
      "72 annee 0.0\n",
      "73 CLI_nb_contrat 0.0\n",
      "74 CLI_nb_contrat_atr 0.0\n",
      "75 CLI_nb_contrat_aup 0.0\n",
      "76 CLI_nb_contrat_bqe 0.0\n",
      "77 CLI_nb_contrat_epa 0.0\n",
      "78 CLI_nb_contrat_hab 0.0\n",
      "79 CLI_nb_contrat_mot 0.0\n",
      "80 CLI_nb_contrat_mrp 0.0\n",
      "81 CLI_nb_contrat_pf 0.0\n",
      "82 CLI_nb_contrat_pju 0.0\n",
      "83 CLI_nb_contrat_prv 0.0\n",
      "84 CLI_nb_contrat_san 0.0\n",
      "85 HAB_nb_pieces 0.0\n",
      "86 CLI_nb_enfant 0.0\n",
      "87 POL_fr 0.0\n",
      "88 AUTA_b50_n 0.0\n",
      "89 AUTA_b50_o 0.0\n",
      "90 AUTA_rm_50 0.0\n",
      "91 AUTA_rm_5060 0.0\n",
      "92 AUTA_rm_6070 0.0\n",
      "93 AUTA_rm_7090 0.0\n",
      "94 AUTA_rm_inf50 0.0\n",
      "95 AUTA_rm_sup90 0.0\n",
      "96 HAB_surf_dep 0.0\n",
      "97 HAB_inhab 0.0\n",
      "98 AUTV_nb_rc 0.0\n",
      "99 AUTV_nb_vol 0.0\n",
      "100 POL_pac 0.0\n",
      "101 POL_paj 0.0\n",
      "102 POL_pan 0.0\n",
      "103 POL_pap 0.0\n",
      "104 POL_par 0.0\n",
      "105 CLI_prod_entree 0.0\n",
      "106 HAB_qual 0.0\n",
      "107 POL_ran 0.0\n",
      "108 CLI_top_atr 0.0\n",
      "109 CLI_top_aup 0.0\n",
      "110 CLI_top_bqe 0.0\n",
      "111 CLI_top_epa 0.0\n",
      "112 CLI_top_hab 0.0\n",
      "113 CLI_top_mot 0.0\n",
      "114 CLI_top_mrp 0.0\n",
      "115 CLI_top_pf 0.0\n",
      "116 CLI_top_pju 0.0\n",
      "117 CLI_top_prv 0.0\n",
      "118 CLI_top_san 0.0\n",
      "119 HAB_top_jardin 0.0\n",
      "120 CLI_tr_age 0.0\n",
      "121 CLI_tr_ancli 0.0\n",
      "122 CLI_tr_mtvi 0.0\n",
      "123 CLI_tr_pm 0.0\n",
      "124 HAB_habit_X_qual_X_inhab 0.0\n",
      "125 POL_mtobv 0.0\n",
      "126 POL_tr_tx_objv 0.0\n",
      "127 CLI_cspf 0.0\n",
      "128 REG_zoneAxa_a 0.0\n",
      "129 REG_zoneAxa_m 0.0\n",
      "130 Random 0.0\n",
      "131 HAB_anclg 0.0\n",
      "132 CLI_sit_fam2 0.0\n",
      "133 AUTA_rm 0.0\n",
      "134 HAB_habit 0.0\n",
      "135 POL_delec 0.0\n",
      "136 POL_vol 0.0\n",
      "137 CLI_tr_age_X_CSPf 0.0\n",
      "138 ddea_quant_freq_20 0.0\n",
      "139 ddea_quant_cm_10 0.0\n",
      "140 ddem_quant_freq_20 0.0\n",
      "141 ddem_quant_cm_20 0.0\n",
      "142 clim_quant_pp_20 0.0\n",
      "143 vol_quant_freq_20 0.0\n",
      "144 vol_quant_cm_20 0.0\n",
      "145 bdg_quant_freq_20 0.0\n",
      "146 bdg_quant_cm_20 0.0\n",
      "147 catnat_quant_pp_10 0.0\n",
      "148 fire_quant_freq_20 0.0\n",
      "149 HAB_habit_nbpieces 0.0\n",
      "150 HAB_qual_inhab 0.0\n",
      "151 POL_distrib_code 0.0\n",
      "152 Zone_inc_cm_iris 0.0\n",
      "153 Zone_inc_freq_iris 0.0\n",
      "154 zone_vol_cm_insee 0.0\n",
      "155 zone_vol_freq_insee 0.0\n"
     ]
    }
   ],
   "source": [
    "for i in range(p):\n",
    "    print(i, ds.features[i], Y[X[:, i] == 1].sum() - R[ds.get_offsets()[i] + 1])"
   ]
  },
  {
   "cell_type": "code",
   "execution_count": 313,
   "metadata": {},
   "outputs": [
    {
     "name": "stdout",
     "output_type": "stream",
     "text": [
      "44.9 ms ± 2.93 ms per loop (mean ± std. dev. of 7 runs, 10 loops each)\n"
     ]
    }
   ],
   "source": [
    "%%timeit\n",
    "Y[X[:, 1] == 1].sum()"
   ]
  },
  {
   "cell_type": "code",
   "execution_count": 30,
   "metadata": {},
   "outputs": [
    {
     "name": "stdout",
     "output_type": "stream",
     "text": [
      "CPU Time: 0.008141040802001953 s\n",
      "6.8639079247935335 GFlops\n"
     ]
    }
   ],
   "source": [
    "cpu_start_time = time()  # Get the GPU start time\n",
    "D = np.dot(A, B)\n",
    "cpu_end_time = time()  # Get the GPU end time\n",
    "print(\"CPU Time: {0} s\".format(cpu_end_time - cpu_start_time))  \n",
    "print((n * p * 2)/(cpu_end_time - cpu_start_time) / (1024 * 1024 * 1024), \"GFlops\")"
   ]
  },
  {
   "cell_type": "code",
   "execution_count": 31,
   "metadata": {},
   "outputs": [
    {
     "data": {
      "text/plain": [
       "array([24.567423, 22.538635, 23.54259 , ..., 25.078547, 25.717302,\n",
       "       26.456945], dtype=float32)"
      ]
     },
     "execution_count": 31,
     "metadata": {},
     "output_type": "execute_result"
    }
   ],
   "source": [
    "C"
   ]
  },
  {
   "cell_type": "code",
   "execution_count": 123,
   "metadata": {},
   "outputs": [
    {
     "data": {
      "text/plain": [
       "256"
      ]
     },
     "execution_count": 123,
     "metadata": {},
     "output_type": "execute_result"
    }
   ],
   "source": [
    "cl.get_platforms()[0].get_devices(cl.device_type.ALL)[2].max_work_group_size #max_work_item_dimensions"
   ]
  },
  {
   "cell_type": "code",
   "execution_count": 32,
   "metadata": {},
   "outputs": [
    {
     "data": {
      "text/plain": [
       "array([24.567429, 22.538643, 23.542585, ..., 25.07854 , 25.717293,\n",
       "       26.456944], dtype=float32)"
      ]
     },
     "execution_count": 32,
     "metadata": {},
     "output_type": "execute_result"
    }
   ],
   "source": [
    "np.dot(A, B)"
   ]
  },
  {
   "cell_type": "code",
   "execution_count": 33,
   "metadata": {},
   "outputs": [
    {
     "data": {
      "text/plain": [
       "0.23217041877163042"
      ]
     },
     "execution_count": 33,
     "metadata": {},
     "output_type": "execute_result"
    }
   ],
   "source": [
    "(cpu_end_time - cpu_start_time) / (gpu_end_time - gpu_start_time)"
   ]
  },
  {
   "cell_type": "code",
   "execution_count": 301,
   "metadata": {},
   "outputs": [
    {
     "data": {
      "text/plain": [
       "array([28.689331, 26.380375, 26.65357 , ..., 23.372551, 26.52175 ,\n",
       "       27.61783 ], dtype=float32)"
      ]
     },
     "execution_count": 301,
     "metadata": {},
     "output_type": "execute_result"
    }
   ],
   "source": [
    "C"
   ]
  },
  {
   "cell_type": "code",
   "execution_count": 302,
   "metadata": {},
   "outputs": [
    {
     "data": {
      "text/plain": [
       "array([28.689327, 26.380373, 26.653566, ..., 23.372551, 26.52174 ,\n",
       "       27.617823], dtype=float32)"
      ]
     },
     "execution_count": 302,
     "metadata": {},
     "output_type": "execute_result"
    }
   ],
   "source": [
    "D"
   ]
  },
  {
   "cell_type": "code",
   "execution_count": 303,
   "metadata": {},
   "outputs": [],
   "source": [
    "import pyclblast\n",
    "\n",
    "from pyopencl.array import Array"
   ]
  },
  {
   "cell_type": "code",
   "execution_count": 304,
   "metadata": {},
   "outputs": [
    {
     "name": "stdout",
     "output_type": "stream",
     "text": [
      "# Setting up Numpy arrays\n",
      "# Setting up OpenCL arrays\n"
     ]
    }
   ],
   "source": [
    "# Settings for this sample\n",
    "dtype = 'float32'\n",
    "alpha = 1\n",
    "beta = 0\n",
    "\n",
    "print(\"# Setting up Numpy arrays\")\n",
    "y = np.random.rand(n).astype(dtype=dtype)\n",
    "\n",
    "print(\"# Setting up OpenCL arrays\")\n",
    "cla = Array(queue, A.shape, A.dtype)\n",
    "clx = Array(queue, B.shape, B.dtype)\n",
    "cly = Array(queue, y.shape, y.dtype)\n",
    "cla.set(A)\n",
    "clx.set(x)\n",
    "cly.set(y)"
   ]
  },
  {
   "cell_type": "code",
   "execution_count": 305,
   "metadata": {},
   "outputs": [
    {
     "name": "stdout",
     "output_type": "stream",
     "text": [
      "# Result for vector y: [27.239933 25.933067 31.403833 ... 24.658667 28.381613 26.393766]\n"
     ]
    }
   ],
   "source": [
    "pyclblast.gemv(queue, n, p, cla, clx, cly, a_ld=p, alpha=alpha, beta=beta)\n",
    "queue.finish()\n",
    "print(\"# Result for vector y: %s\" % cly.get())\n",
    "#print(\"# Expected result:     %s\" % (alpha * np.dot(A, B) + beta * y))"
   ]
  },
  {
   "cell_type": "code",
   "execution_count": 306,
   "metadata": {},
   "outputs": [
    {
     "data": {
      "text/plain": [
       "array([28.689327, 26.380373, 26.653566, ..., 23.372551, 26.52174 ,\n",
       "       27.617823], dtype=float32)"
      ]
     },
     "execution_count": 306,
     "metadata": {},
     "output_type": "execute_result"
    }
   ],
   "source": [
    "(alpha * np.dot(A, B) + beta * y)"
   ]
  }
 ],
 "metadata": {
  "kernelspec": {
   "display_name": "Python 3",
   "language": "python",
   "name": "python3"
  },
  "language_info": {
   "codemirror_mode": {
    "name": "ipython",
    "version": 3
   },
   "file_extension": ".py",
   "mimetype": "text/x-python",
   "name": "python",
   "nbconvert_exporter": "python",
   "pygments_lexer": "ipython3",
   "version": "3.6.2"
  }
 },
 "nbformat": 4,
 "nbformat_minor": 2
}
