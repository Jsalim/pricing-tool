{
 "cells": [
  {
   "cell_type": "code",
   "execution_count": 2,
   "metadata": {},
   "outputs": [],
   "source": [
    "from IPython.core.display import HTML\n",
    "\n",
    "import markdown\n",
    "import jinja2"
   ]
  },
  {
   "cell_type": "code",
   "execution_count": 18,
   "metadata": {},
   "outputs": [],
   "source": [
    "template = \"\"\"\n",
    "{{header}}\n",
    "{{content}}\n",
    "{{footer}}\n",
    "\"\"\""
   ]
  },
  {
   "cell_type": "code",
   "execution_count": 5,
   "metadata": {},
   "outputs": [],
   "source": [
    "content = \"\"\"author: Julien Durand\n",
    "version:1\n",
    "\n",
    "#Title\n",
    "\n",
    "Document written by {{author}}.\n",
    "\n",
    "[TOC]\n",
    "\n",
    "##Exemple\n",
    "\n",
    "\"text\" &\n",
    "\n",
    "This is a table|header\n",
    "---------------|------\n",
    "ligne          |lfjf\n",
    "ligne lfkj     |lfjf\n",
    "\n",
    "##Exemple 2\n",
    "\n",
    "qfqfs\n",
    "\n",
    "\"\"\""
   ]
  },
  {
   "cell_type": "code",
   "execution_count": null,
   "metadata": {},
   "outputs": [],
   "source": [
    "extensions = [\n",
    "    'extra', \n",
    "    'nl2br', \n",
    "    'toc',\n",
    "    'smarty',\n",
    "    'meta',\n",
    "]\n",
    "md = markdown.Markdown(extensions=extensions)\n",
    "env = jinja2.Environment()"
   ]
  },
  {
   "cell_type": "code",
   "execution_count": 21,
   "metadata": {},
   "outputs": [
    {
     "data": {
      "text/html": [
       "\n",
       "toto\n",
       "<h1 id=\"title\">Title</h1>\n",
       "<p>Document written by Julien Durand.</p>\n",
       "<div class=\"toc\">\n",
       "<ul>\n",
       "<li><a href=\"#title\">Title</a><ul>\n",
       "<li><a href=\"#exemple\">Exemple</a></li>\n",
       "<li><a href=\"#exemple-2\">Exemple 2</a></li>\n",
       "</ul>\n",
       "</li>\n",
       "</ul>\n",
       "</div>\n",
       "<h2 id=\"exemple\">Exemple</h2>\n",
       "<p>&ldquo;text&rdquo; &amp;</p>\n",
       "<table>\n",
       "<thead>\n",
       "<tr>\n",
       "<th>This is a table</th>\n",
       "<th>header</th>\n",
       "</tr>\n",
       "</thead>\n",
       "<tbody>\n",
       "<tr>\n",
       "<td>ligne</td>\n",
       "<td>lfjf</td>\n",
       "</tr>\n",
       "<tr>\n",
       "<td>ligne lfkj</td>\n",
       "<td>lfjf</td>\n",
       "</tr>\n",
       "</tbody>\n",
       "</table>\n",
       "<h2 id=\"exemple-2\">Exemple 2</h2>\n",
       "<p>qfqfs</p>\n"
      ],
      "text/plain": [
       "<IPython.core.display.HTML object>"
      ]
     },
     "execution_count": 21,
     "metadata": {},
     "output_type": "execute_result"
    }
   ],
   "source": [
    "md.convert(content)\n",
    "context = md.Meta\n",
    "for k in context:\n",
    "    if len(context[k]) == 1:\n",
    "        context[k] = context[k][0]\n",
    "        \n",
    "md_content = env.from_string(content).render(context)\n",
    "html = md.convert(md_content)\n",
    "html = env.from_string(template).render(content=html, header=\"toto\")\n",
    "HTML(html)"
   ]
  },
  {
   "cell_type": "code",
   "execution_count": null,
   "metadata": {},
   "outputs": [],
   "source": []
  }
 ],
 "metadata": {
  "kernelspec": {
   "display_name": "Python 3",
   "language": "python",
   "name": "python3"
  },
  "language_info": {
   "codemirror_mode": {
    "name": "ipython",
    "version": 3
   },
   "file_extension": ".py",
   "mimetype": "text/x-python",
   "name": "python",
   "nbconvert_exporter": "python",
   "pygments_lexer": "ipython3",
   "version": "3.6.2"
  }
 },
 "nbformat": 4,
 "nbformat_minor": 2
}
